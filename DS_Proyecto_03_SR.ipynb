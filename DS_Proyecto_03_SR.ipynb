{
 "cells": [
  {
   "cell_type": "markdown",
   "metadata": {
    "id": "gzJLet17WTzh"
   },
   "source": [
    "# Proyecto 03 - Sistemas de Recomendación\n",
    "\n",
    "Proyecto con fin académico realizado por Carlos Rodriguez, contacto carlosd2.rodriguez@gmail.com https://github.com/carlosrosan/ACAMICA\n",
    "\n",
    "\n",
    "## Dataset: STEAM\n",
    "\n",
    "**Origen de los datos de juegos y reviews [aquí](https://github.com/kang205/SASRec). Son dos archivos, uno de calificaciones y otro de información sobre los juegos.**\n",
    "\n",
    "#### Objetivo: desarrollar un modelo de machine learning de Filtro Colaborativo para un sistema de recomendación de juegos"
   ]
  },
  {
   "cell_type": "markdown",
   "metadata": {
    "id": "BmEM25k4WTzw"
   },
   "source": [
    "**Empezaremos por importar el dataset con las Reviews de los juegos**"
   ]
  },
  {
   "cell_type": "code",
   "execution_count": 1,
   "metadata": {
    "id": "abAXItn1WTz0"
   },
   "outputs": [
    {
     "data": {
      "text/html": [
       "<div>\n",
       "<style scoped>\n",
       "    .dataframe tbody tr th:only-of-type {\n",
       "        vertical-align: middle;\n",
       "    }\n",
       "\n",
       "    .dataframe tbody tr th {\n",
       "        vertical-align: top;\n",
       "    }\n",
       "\n",
       "    .dataframe thead th {\n",
       "        text-align: right;\n",
       "    }\n",
       "</style>\n",
       "<table border=\"1\" class=\"dataframe\">\n",
       "  <thead>\n",
       "    <tr style=\"text-align: right;\">\n",
       "      <th></th>\n",
       "      <th>username</th>\n",
       "      <th>hours</th>\n",
       "      <th>products</th>\n",
       "      <th>product_id</th>\n",
       "      <th>page_order</th>\n",
       "      <th>date</th>\n",
       "      <th>text</th>\n",
       "      <th>early_access</th>\n",
       "      <th>page</th>\n",
       "      <th>user_id</th>\n",
       "      <th>found_funny</th>\n",
       "      <th>compensation</th>\n",
       "    </tr>\n",
       "  </thead>\n",
       "  <tbody>\n",
       "    <tr>\n",
       "      <th>0</th>\n",
       "      <td>Chaos Syren</td>\n",
       "      <td>0.1</td>\n",
       "      <td>41.0</td>\n",
       "      <td>725280</td>\n",
       "      <td>0</td>\n",
       "      <td>2017-12-17</td>\n",
       "      <td>This would not be acceptable as an entertainme...</td>\n",
       "      <td>False</td>\n",
       "      <td>1</td>\n",
       "      <td>NaN</td>\n",
       "      <td>NaN</td>\n",
       "      <td>NaN</td>\n",
       "    </tr>\n",
       "    <tr>\n",
       "      <th>1</th>\n",
       "      <td>Sneaky_Panda</td>\n",
       "      <td>0.6</td>\n",
       "      <td>243.0</td>\n",
       "      <td>725280</td>\n",
       "      <td>3</td>\n",
       "      <td>2017-11-27</td>\n",
       "      <td>If you take a discount - it's not a bad horror...</td>\n",
       "      <td>False</td>\n",
       "      <td>1</td>\n",
       "      <td>NaN</td>\n",
       "      <td>NaN</td>\n",
       "      <td>NaN</td>\n",
       "    </tr>\n",
       "    <tr>\n",
       "      <th>2</th>\n",
       "      <td>Coby</td>\n",
       "      <td>8.9</td>\n",
       "      <td>227.0</td>\n",
       "      <td>35140</td>\n",
       "      <td>3</td>\n",
       "      <td>2018-01-03</td>\n",
       "      <td>Finished the game around 6 hours. Thats only t...</td>\n",
       "      <td>False</td>\n",
       "      <td>1</td>\n",
       "      <td>NaN</td>\n",
       "      <td>NaN</td>\n",
       "      <td>NaN</td>\n",
       "    </tr>\n",
       "  </tbody>\n",
       "</table>\n",
       "</div>"
      ],
      "text/plain": [
       "       username  hours  products product_id  page_order        date  \\\n",
       "0   Chaos Syren    0.1      41.0     725280           0  2017-12-17   \n",
       "1  Sneaky_Panda    0.6     243.0     725280           3  2017-11-27   \n",
       "2          Coby    8.9     227.0      35140           3  2018-01-03   \n",
       "\n",
       "                                                text  early_access  page  \\\n",
       "0  This would not be acceptable as an entertainme...         False     1   \n",
       "1  If you take a discount - it's not a bad horror...         False     1   \n",
       "2  Finished the game around 6 hours. Thats only t...         False     1   \n",
       "\n",
       "  user_id  found_funny compensation  \n",
       "0     NaN          NaN          NaN  \n",
       "1     NaN          NaN          NaN  \n",
       "2     NaN          NaN          NaN  "
      ]
     },
     "execution_count": 1,
     "metadata": {},
     "output_type": "execute_result"
    }
   ],
   "source": [
    "import gzip\n",
    "import pandas as pd\n",
    "\n",
    "def parse(path):\n",
    "    g = gzip.open(path, 'r')\n",
    "    for l in g:\n",
    "        yield eval(l)\n",
    "\n",
    "contador = 0\n",
    "data_reviews = []\n",
    "# Vamos a guardar una de cada 10 reviews para no llenar la memoria RAM. Si pones n = 3, \n",
    "# abrira uno de cada tres, y asi.\n",
    "n = 7\n",
    "for l in parse('steam_reviews.json.gz'):\n",
    "    if contador%n == 0:\n",
    "        data_reviews.append(l)\n",
    "    else:\n",
    "        pass\n",
    "    contador += 1\n",
    "\n",
    "data_reviews = pd.DataFrame(data_reviews)\n",
    "data_reviews.head(3)"
   ]
  },
  {
   "cell_type": "markdown",
   "metadata": {
    "id": "04ed3teRWT0T"
   },
   "source": [
    "**Ahora, importaremos el dataset que describe a los Juegos de forma individual**"
   ]
  },
  {
   "cell_type": "code",
   "execution_count": 2,
   "metadata": {
    "id": "8wRb24Y5WT0U"
   },
   "outputs": [],
   "source": [
    "data_games = []\n",
    "for l in parse('steam_games.json.gz'):\n",
    "    data_games.append(l)\n",
    "data_games = pd.DataFrame(data_games)"
   ]
  },
  {
   "cell_type": "code",
   "execution_count": 3,
   "metadata": {},
   "outputs": [
    {
     "data": {
      "text/plain": [
       "username              0\n",
       "hours              3817\n",
       "products           2228\n",
       "product_id            0\n",
       "page_order            0\n",
       "date                  0\n",
       "text                  0\n",
       "early_access          0\n",
       "page                  0\n",
       "user_id          660348\n",
       "found_funny      942194\n",
       "compensation    1092435\n",
       "dtype: int64"
      ]
     },
     "execution_count": 3,
     "metadata": {},
     "output_type": "execute_result"
    }
   ],
   "source": [
    "data_reviews.isna().sum()"
   ]
  },
  {
   "cell_type": "code",
   "execution_count": 4,
   "metadata": {},
   "outputs": [
    {
     "data": {
      "text/plain": [
       "Text(0, 0.5, 'Frecuencia por bins')"
      ]
     },
     "execution_count": 4,
     "metadata": {},
     "output_type": "execute_result"
    },
    {
     "data": {
      "image/png": "[encoded data removed]",
      "text/plain": [
       "<Figure size 1080x360 with 1 Axes>"
      ]
     },
     "metadata": {
      "needs_background": "light"
     },
     "output_type": "display_data"
    }
   ],
   "source": [
    "import seaborn as sns\n",
    "import matplotlib.pyplot as plt\n",
    "\n",
    "fig, ax = plt.subplots(figsize=(15,5))\n",
    "ax = sns.distplot(data_games.price.value_counts())\n",
    "ax.set_xlabel('Precio (USD)')\n",
    "ax.set_ylabel('Frecuencia por bins')"
   ]
  },
  {
   "cell_type": "markdown",
   "metadata": {},
   "source": [
    "#### Observamos un sesgo respecto a la distribución de los precios de los juegos, donde la mayoría se encuentra entre 0 y los 30 USD, lo cual es normal para juegos de PC."
   ]
  },
  {
   "cell_type": "code",
   "execution_count": 5,
   "metadata": {},
   "outputs": [
    {
     "data": {
      "text/plain": [
       "Text(0, 0.5, 'Frecuencia por bins')"
      ]
     },
     "execution_count": 5,
     "metadata": {},
     "output_type": "execute_result"
    },
    {
     "data": {
      "image/png": "[encoded data removed]",
      "text/plain": [
       "<Figure size 1080x360 with 1 Axes>"
      ]
     },
     "metadata": {
      "needs_background": "light"
     },
     "output_type": "display_data"
    }
   ],
   "source": [
    "# Excluiremos para este gráfico los valores con caracteres no numéricos para explorar los precios de los juegos\n",
    "\n",
    "data_games2 = data_games.drop(data_games[(data_games.price == 'Free To Play') |\n",
    "                                         (data_games.price == 'Free to Play') |\n",
    "                                        (data_games.price == 'Free') |\n",
    "                                        (data_games.price == 'Free Demo') |\n",
    "                                        (data_games.price == 'Play for Free!') |\n",
    "                                        (data_games.price == 'Install Now') |\n",
    "                                        (data_games.price == 'Play WARMACHINE: Tactics Demo') |\n",
    "                                        (data_games.price == 'Free Mod') |\n",
    "                                        (data_games.price == 'Install Theme') |\n",
    "                                        (data_games.price == 'Third-party') |\n",
    "                                        (data_games.price == 'Play Now') |\n",
    "                                        (data_games.price == 'Free HITMAN™ Holiday Pack') |\n",
    "                                        (data_games.price == 'Play the Demo') |\n",
    "                                        (data_games.price == 'Starting at $499.00')|\n",
    "                                        (data_games.price == 'Starting at $449.00') |\n",
    "                                        (data_games.price == 'Free to Try') |\n",
    "                                        (data_games.price == 'Free Movie') |\n",
    "                                        (data_games.price == 'Free To Use') |\n",
    "                                        (data_games.price == 'Free to Use')].index)\n",
    "\n",
    "data_games2 = data_games2[data_games2.price<=100]\n",
    "fig, ax = plt.subplots(figsize=(15,5))\n",
    "ax = sns.distplot(data_games2.price)\n",
    "ax.set_xlabel('Precio (USD)')\n",
    "ax.set_ylabel('Frecuencia por bins')"
   ]
  },
  {
   "cell_type": "markdown",
   "metadata": {},
   "source": [
    "#### Para entender cuales son los juegos más relevantes según los usuarios que realizaron reviewas, haremos un match de los 100 juegos con mas reviews del dataset, tal que tengan mas de 5 horas acumuladas de uso del juego por usuario"
   ]
  },
  {
   "cell_type": "code",
   "execution_count": 6,
   "metadata": {},
   "outputs": [
    {
     "name": "stdout",
     "output_type": "stream",
     "text": [
      "99\r"
     ]
    },
    {
     "data": {
      "text/html": [
       "<div>\n",
       "<style scoped>\n",
       "    .dataframe tbody tr th:only-of-type {\n",
       "        vertical-align: middle;\n",
       "    }\n",
       "\n",
       "    .dataframe tbody tr th {\n",
       "        vertical-align: top;\n",
       "    }\n",
       "\n",
       "    .dataframe thead th {\n",
       "        text-align: right;\n",
       "    }\n",
       "</style>\n",
       "<table border=\"1\" class=\"dataframe\">\n",
       "  <thead>\n",
       "    <tr style=\"text-align: right;\">\n",
       "      <th></th>\n",
       "      <th>publisher</th>\n",
       "      <th>genres</th>\n",
       "      <th>app_name</th>\n",
       "      <th>title</th>\n",
       "      <th>total_hours_played</th>\n",
       "      <th>url</th>\n",
       "      <th>release_date</th>\n",
       "      <th>tags</th>\n",
       "      <th>discount_price</th>\n",
       "      <th>reviews_url</th>\n",
       "      <th>specs</th>\n",
       "      <th>price</th>\n",
       "      <th>early_access</th>\n",
       "      <th>id</th>\n",
       "      <th>developer</th>\n",
       "      <th>sentiment</th>\n",
       "      <th>metascore</th>\n",
       "    </tr>\n",
       "  </thead>\n",
       "  <tbody>\n",
       "    <tr>\n",
       "      <th>31856</th>\n",
       "      <td>Valve</td>\n",
       "      <td>[Action, Free to Play]</td>\n",
       "      <td>Team Fortress 2</td>\n",
       "      <td>Team Fortress 2</td>\n",
       "      <td>11502040</td>\n",
       "      <td>http://store.steampowered.com/app/440/Team_For...</td>\n",
       "      <td>2007-10-10</td>\n",
       "      <td>[Free to Play, Multiplayer, FPS, Action, Shoot...</td>\n",
       "      <td>NaN</td>\n",
       "      <td>http://steamcommunity.com/app/440/reviews/?bro...</td>\n",
       "      <td>[Multi-player, Cross-Platform Multiplayer, Ste...</td>\n",
       "      <td>Free to Play</td>\n",
       "      <td>False</td>\n",
       "      <td>440</td>\n",
       "      <td>Valve</td>\n",
       "      <td>Very Positive</td>\n",
       "      <td>92</td>\n",
       "    </tr>\n",
       "    <tr>\n",
       "      <th>29692</th>\n",
       "      <td>Facepunch Studios</td>\n",
       "      <td>[Action, Adventure, Indie, Massively Multiplay...</td>\n",
       "      <td>Rust</td>\n",
       "      <td>Rust</td>\n",
       "      <td>3696958580</td>\n",
       "      <td>http://store.steampowered.com/app/252490/Rust/</td>\n",
       "      <td>2013-12-11</td>\n",
       "      <td>[Early Access, Survival, Crafting, Multiplayer...</td>\n",
       "      <td>NaN</td>\n",
       "      <td>http://steamcommunity.com/app/252490/reviews/?...</td>\n",
       "      <td>[Multi-player, MMO, Cross-Platform Multiplayer...</td>\n",
       "      <td>19.99</td>\n",
       "      <td>True</td>\n",
       "      <td>252490</td>\n",
       "      <td>Facepunch Studios</td>\n",
       "      <td>Very Positive</td>\n",
       "      <td>NaN</td>\n",
       "    </tr>\n",
       "    <tr>\n",
       "      <th>30746</th>\n",
       "      <td>2K Games, Aspyr (Mac &amp;amp;amp; Linux)</td>\n",
       "      <td>[Action, RPG]</td>\n",
       "      <td>Borderlands 2</td>\n",
       "      <td>Borderlands 2</td>\n",
       "      <td>513918560</td>\n",
       "      <td>http://store.steampowered.com/app/49520/Border...</td>\n",
       "      <td>2012-09-17</td>\n",
       "      <td>[FPS, Co-op, Action, RPG, Loot, Shooter, Open ...</td>\n",
       "      <td>NaN</td>\n",
       "      <td>http://steamcommunity.com/app/49520/reviews/?b...</td>\n",
       "      <td>[Single-player, Co-op, Steam Achievements, Ful...</td>\n",
       "      <td>19.99</td>\n",
       "      <td>False</td>\n",
       "      <td>49520</td>\n",
       "      <td>Gearbox Software,Aspyr (Mac &amp;amp; Linux)</td>\n",
       "      <td>Overwhelmingly Positive</td>\n",
       "      <td>89</td>\n",
       "    </tr>\n",
       "  </tbody>\n",
       "</table>\n",
       "</div>"
      ],
      "text/plain": [
       "                                   publisher  \\\n",
       "31856                                  Valve   \n",
       "29692                      Facepunch Studios   \n",
       "30746  2K Games, Aspyr (Mac &amp;amp; Linux)   \n",
       "\n",
       "                                                  genres         app_name  \\\n",
       "31856                             [Action, Free to Play]  Team Fortress 2   \n",
       "29692  [Action, Adventure, Indie, Massively Multiplay...             Rust   \n",
       "30746                                      [Action, RPG]    Borderlands 2   \n",
       "\n",
       "                 title total_hours_played  \\\n",
       "31856  Team Fortress 2           11502040   \n",
       "29692             Rust         3696958580   \n",
       "30746    Borderlands 2          513918560   \n",
       "\n",
       "                                                     url release_date  \\\n",
       "31856  http://store.steampowered.com/app/440/Team_For...   2007-10-10   \n",
       "29692     http://store.steampowered.com/app/252490/Rust/   2013-12-11   \n",
       "30746  http://store.steampowered.com/app/49520/Border...   2012-09-17   \n",
       "\n",
       "                                                    tags discount_price  \\\n",
       "31856  [Free to Play, Multiplayer, FPS, Action, Shoot...            NaN   \n",
       "29692  [Early Access, Survival, Crafting, Multiplayer...            NaN   \n",
       "30746  [FPS, Co-op, Action, RPG, Loot, Shooter, Open ...            NaN   \n",
       "\n",
       "                                             reviews_url  \\\n",
       "31856  http://steamcommunity.com/app/440/reviews/?bro...   \n",
       "29692  http://steamcommunity.com/app/252490/reviews/?...   \n",
       "30746  http://steamcommunity.com/app/49520/reviews/?b...   \n",
       "\n",
       "                                                   specs         price  \\\n",
       "31856  [Multi-player, Cross-Platform Multiplayer, Ste...  Free to Play   \n",
       "29692  [Multi-player, MMO, Cross-Platform Multiplayer...         19.99   \n",
       "30746  [Single-player, Co-op, Steam Achievements, Ful...         19.99   \n",
       "\n",
       "      early_access      id                                 developer  \\\n",
       "31856        False     440                                     Valve   \n",
       "29692         True  252490                         Facepunch Studios   \n",
       "30746        False   49520  Gearbox Software,Aspyr (Mac &amp; Linux)   \n",
       "\n",
       "                     sentiment metascore  \n",
       "31856            Very Positive        92  \n",
       "29692            Very Positive       NaN  \n",
       "30746  Overwhelmingly Positive        89  "
      ]
     },
     "execution_count": 6,
     "metadata": {},
     "output_type": "execute_result"
    }
   ],
   "source": [
    "import time\n",
    "\n",
    "match = pd.DataFrame(columns=['publisher','genres','app_name','title','total_hours_played','url','release_date','tags','discount_price','reviews_url','specs','price','early_access','id','developer','sentiment','metascore']  )\n",
    "#for i in range(1,len(data_reviews)):\n",
    "for i in range(0,100):\n",
    "    print(i, end=\"\\r\")\n",
    "    time.sleep(0.1)\n",
    "    match_id=data_reviews[data_reviews.hours > 5].product_id.value_counts().index[i]\n",
    "    match=match.append(data_games[data_games.id==match_id])\n",
    "    match['total_hours_played'].iloc[i]=data_reviews[data_reviews.product_id == str(match_id)].product_id.astype(int).sum()\n",
    "\n",
    "match.head(3)"
   ]
  },
  {
   "cell_type": "markdown",
   "metadata": {},
   "source": [
    "### ¿Cuántos usuarios únicos hay?"
   ]
  },
  {
   "cell_type": "code",
   "execution_count": 7,
   "metadata": {},
   "outputs": [
    {
     "data": {
      "text/plain": [
       "1113296"
      ]
     },
     "execution_count": 7,
     "metadata": {},
     "output_type": "execute_result"
    }
   ],
   "source": [
    "len(data_reviews.user_id)"
   ]
  },
  {
   "cell_type": "markdown",
   "metadata": {},
   "source": [
    "### ¿Cuántos juegos calificó cada usuario?"
   ]
  },
  {
   "cell_type": "code",
   "execution_count": 8,
   "metadata": {},
   "outputs": [
    {
     "data": {
      "text/plain": [
       "123             304\n",
       "Alex            249\n",
       "Nick            218\n",
       "Chris           189\n",
       "..              182\n",
       "               ... \n",
       "Billynomates      1\n",
       "Aries403          1\n",
       "enaecore          1\n",
       "DOKKAEBI          1\n",
       "Touss             1\n",
       "Name: username, Length: 713170, dtype: int64"
      ]
     },
     "execution_count": 8,
     "metadata": {},
     "output_type": "execute_result"
    }
   ],
   "source": [
    "data_reviews.username.value_counts()"
   ]
  },
  {
   "cell_type": "markdown",
   "metadata": {},
   "source": [
    "### ¿cuáles son los juegos más populares?¿Y los menos populares?"
   ]
  },
  {
   "cell_type": "code",
   "execution_count": 9,
   "metadata": {},
   "outputs": [
    {
     "name": "stdout",
     "output_type": "stream",
     "text": [
      "['Team Fortress 2']\n",
      "['Rust']\n",
      "['Borderlands 2']\n",
      "['Fallout 4']\n",
      "['Grand Theft Auto V']\n",
      "['Undertale']\n",
      "['Portal 2']\n",
      "['DayZ']\n",
      "['Warframe']\n"
     ]
    }
   ],
   "source": [
    "# Los 10 más populares\n",
    "for i in range(0,9):\n",
    "    print(data_games[data_games.id==str(data_reviews.product_id.value_counts().index[i])].title.values)"
   ]
  },
  {
   "cell_type": "code",
   "execution_count": 10,
   "metadata": {},
   "outputs": [
    {
     "name": "stdout",
     "output_type": "stream",
     "text": [
      "['Boom Box Blue!']\n",
      "['Naruto the Movie: Guardians of the Crescent Moon Kingdom']\n",
      "['aMaze Achievements : forest']\n",
      "['City of Ages: Picture Supportive Text MUD (server and client included)']\n",
      "['Massive Assault']\n",
      "['Achievement Hunter: Thief']\n",
      "['Battle Of Europe']\n",
      "['Hostil']\n",
      "['GameMaker Studio 2 Mobile']\n"
     ]
    }
   ],
   "source": [
    "# Los 10 menos populares\n",
    "for i in range(0,9):\n",
    "    print(data_games[data_games.id==str(data_reviews.product_id.value_counts(ascending=True).index[i])].title.values)"
   ]
  },
  {
   "cell_type": "markdown",
   "metadata": {},
   "source": [
    "#### Eliminaremos los valores faltantes de user_id, product_id y metascore, debido a que sin ellos no podremos entrenar el modelo. No los sustituiremos ya que contamos con suficiente información como para que los faltantes no afecten."
   ]
  },
  {
   "cell_type": "code",
   "execution_count": 11,
   "metadata": {},
   "outputs": [],
   "source": [
    "import numpy as np\n",
    "import pandas as pd\n",
    "import matplotlib.pyplot as plt\n",
    "import seaborn as sns"
   ]
  },
  {
   "cell_type": "markdown",
   "metadata": {},
   "source": [
    "### ¿Cuantos valores faltantes realmente existen en los features product_id, user_id y metascore?"
   ]
  },
  {
   "cell_type": "code",
   "execution_count": 12,
   "metadata": {},
   "outputs": [
    {
     "data": {
      "text/plain": [
       "0"
      ]
     },
     "execution_count": 12,
     "metadata": {},
     "output_type": "execute_result"
    }
   ],
   "source": [
    "data_reviews.product_id.isna().sum()"
   ]
  },
  {
   "cell_type": "code",
   "execution_count": 13,
   "metadata": {},
   "outputs": [
    {
     "data": {
      "text/plain": [
       "660348"
      ]
     },
     "execution_count": 13,
     "metadata": {},
     "output_type": "execute_result"
    }
   ],
   "source": [
    "data_reviews.user_id.isna().sum()"
   ]
  },
  {
   "cell_type": "code",
   "execution_count": 14,
   "metadata": {},
   "outputs": [
    {
     "data": {
      "text/plain": [
       "(452948, 12)"
      ]
     },
     "execution_count": 14,
     "metadata": {},
     "output_type": "execute_result"
    }
   ],
   "source": [
    "data_reviews.product_id = data_reviews.product_id.replace(['NA'],np.nan)\n",
    "data_reviews = data_reviews[~data_reviews.product_id.isna()]\n",
    "data_reviews = data_reviews[~data_reviews.user_id.isna()]\n",
    "data_reviews.shape"
   ]
  },
  {
   "cell_type": "markdown",
   "metadata": {},
   "source": [
    "### ¿Cómo es la distribución de las calificaciones y horas jugadas?"
   ]
  },
  {
   "cell_type": "code",
   "execution_count": 15,
   "metadata": {},
   "outputs": [
    {
     "data": {
      "text/plain": [
       "<matplotlib.axes._subplots.AxesSubplot at 0x42950f7b08>"
      ]
     },
     "execution_count": 15,
     "metadata": {},
     "output_type": "execute_result"
    },
    {
     "data": {
      "image/png": "[encoded data removed]",
      "text/plain": [
       "<Figure size 1080x216 with 1 Axes>"
      ]
     },
     "metadata": {
      "needs_background": "light"
     },
     "output_type": "display_data"
    }
   ],
   "source": [
    "# Gráfico de horas jugadas en el top 100 de juegos (dataset match)\n",
    "\n",
    "plt.subplots(figsize=(15,3))\n",
    "#sns.boxplot(x=match['total_hours_played'])\n",
    "sns.boxplot(x=match['total_hours_played'])"
   ]
  },
  {
   "cell_type": "code",
   "execution_count": 16,
   "metadata": {},
   "outputs": [
    {
     "data": {
      "text/plain": [
       "<matplotlib.axes._subplots.AxesSubplot at 0x4295e5a488>"
      ]
     },
     "execution_count": 16,
     "metadata": {},
     "output_type": "execute_result"
    },
    {
     "data": {
      "image/png": "[encoded data removed]",
      "text/plain": [
       "<Figure size 1080x216 with 1 Axes>"
      ]
     },
     "metadata": {
      "needs_background": "light"
     },
     "output_type": "display_data"
    }
   ],
   "source": [
    "#Gráfico de horas jugadas por usuario por juego\n",
    "\n",
    "plt.subplots(figsize=(15,3))\n",
    "sns.boxplot(x=data_reviews[~data_reviews['hours'].isna()]['hours'])"
   ]
  },
  {
   "cell_type": "code",
   "execution_count": 17,
   "metadata": {},
   "outputs": [
    {
     "data": {
      "text/plain": [
       "<matplotlib.axes._subplots.AxesSubplot at 0x4296569b08>"
      ]
     },
     "execution_count": 17,
     "metadata": {},
     "output_type": "execute_result"
    },
    {
     "data": {
      "image/png": "[encoded data removed]",
      "text/plain": [
       "<Figure size 1080x576 with 1 Axes>"
      ]
     },
     "metadata": {
      "needs_background": "light"
     },
     "output_type": "display_data"
    }
   ],
   "source": [
    "plt.subplots(figsize=(15,8))\n",
    "sns.distplot(data_reviews[~data_reviews['hours'].isna()]['hours'])"
   ]
  },
  {
   "cell_type": "markdown",
   "metadata": {},
   "source": [
    "#### Existen juegos y usuarios con cantidades de horas jugadas que pueden considerarse como outliers, las cuales eliminaremos."
   ]
  },
  {
   "cell_type": "code",
   "execution_count": 18,
   "metadata": {},
   "outputs": [
    {
     "name": "stdout",
     "output_type": "stream",
     "text": [
      "121.26549068384124 390.46328053736795 -1050.1243509282624 1292.655332295945\n"
     ]
    }
   ],
   "source": [
    "valor_medio = data_reviews['hours'].mean()\n",
    "std = data_reviews['hours'].std()\n",
    "minimo = valor_medio - 3*std\n",
    "maximo = valor_medio + 3*std\n",
    "mascara_outliers = np.logical_or(data_reviews['hours'] < minimo, data_reviews['hours'] > maximo)\n",
    "print(valor_medio, std, minimo, maximo)"
   ]
  },
  {
   "cell_type": "code",
   "execution_count": 19,
   "metadata": {},
   "outputs": [
    {
     "data": {
      "text/plain": [
       "False    445375\n",
       "True       7573\n",
       "Name: hours, dtype: int64"
      ]
     },
     "execution_count": 19,
     "metadata": {},
     "output_type": "execute_result"
    }
   ],
   "source": [
    "mascara_outliers.value_counts()"
   ]
  },
  {
   "cell_type": "code",
   "execution_count": 20,
   "metadata": {},
   "outputs": [
    {
     "data": {
      "text/plain": [
       "count    444276.000000\n",
       "mean         82.877335\n",
       "std         174.037405\n",
       "min           0.000000\n",
       "25%           4.600000\n",
       "50%          17.900000\n",
       "75%          68.100000\n",
       "max        1292.500000\n",
       "Name: hours, dtype: float64"
      ]
     },
     "execution_count": 20,
     "metadata": {},
     "output_type": "execute_result"
    }
   ],
   "source": [
    "data_reviews = data_reviews[~mascara_outliers]\n",
    "data_reviews['hours'].describe()"
   ]
  },
  {
   "cell_type": "code",
   "execution_count": 21,
   "metadata": {},
   "outputs": [
    {
     "data": {
      "text/plain": [
       "<matplotlib.axes._subplots.AxesSubplot at 0x4297dd5508>"
      ]
     },
     "execution_count": 21,
     "metadata": {},
     "output_type": "execute_result"
    },
    {
     "data": {
      "image/png": "[encoded data removed]",
      "text/plain": [
       "<Figure size 1080x216 with 1 Axes>"
      ]
     },
     "metadata": {
      "needs_background": "light"
     },
     "output_type": "display_data"
    }
   ],
   "source": [
    "plt.subplots(figsize=(15,3))\n",
    "sns.boxplot(x=data_reviews[~data_reviews['hours'].isna()]['hours'])"
   ]
  },
  {
   "cell_type": "markdown",
   "metadata": {},
   "source": [
    "### Filtraremos los juegos jugados por más de 2 usuarios y por mas de 20 horas por usuario"
   ]
  },
  {
   "cell_type": "code",
   "execution_count": 22,
   "metadata": {},
   "outputs": [
    {
     "data": {
      "text/plain": [
       "<matplotlib.axes._subplots.AxesSubplot at 0x42980ee808>"
      ]
     },
     "execution_count": 22,
     "metadata": {},
     "output_type": "execute_result"
    },
    {
     "data": {
      "image/png": "[encoded data removed]",
      "text/plain": [
       "<Figure size 1080x216 with 1 Axes>"
      ]
     },
     "metadata": {
      "needs_background": "light"
     },
     "output_type": "display_data"
    }
   ],
   "source": [
    "data_reviews = data_reviews[data_reviews['hours'] >= 20]\n",
    "plt.subplots(figsize=(15,3))\n",
    "sns.boxplot(x=data_reviews[~data_reviews['hours'].isna()]['hours'])"
   ]
  },
  {
   "cell_type": "code",
   "execution_count": 23,
   "metadata": {},
   "outputs": [
    {
     "data": {
      "text/plain": [
       "76561197969749884    93\n",
       "76561198011965365    23\n",
       "76561198010131631    16\n",
       "76561198010800766    15\n",
       "76561198014906902    12\n",
       "                     ..\n",
       "76561198120807779     1\n",
       "76561198271905399     1\n",
       "76561198059976589     1\n",
       "76561198008372754     1\n",
       "76561198054990839     1\n",
       "Name: user_id, Length: 186853, dtype: int64"
      ]
     },
     "execution_count": 23,
     "metadata": {},
     "output_type": "execute_result"
    }
   ],
   "source": [
    "data_reviews.user_id.value_counts()"
   ]
  },
  {
   "cell_type": "markdown",
   "metadata": {},
   "source": [
    "### Eliminaremos los juegos con pocos reviews (menos de 2)"
   ]
  },
  {
   "cell_type": "code",
   "execution_count": 24,
   "metadata": {},
   "outputs": [
    {
     "name": "stdout",
     "output_type": "stream",
     "text": [
      "(212142, 12)\n",
      "(44957, 12)\n"
     ]
    }
   ],
   "source": [
    "print(data_reviews.shape)\n",
    "data_reviews = data_reviews.groupby('user_id').filter(lambda x: len(x) >= 2)\n",
    "data_reviews.user_id.value_counts()\n",
    "print(data_reviews.shape)"
   ]
  },
  {
   "cell_type": "code",
   "execution_count": 25,
   "metadata": {},
   "outputs": [
    {
     "data": {
      "text/plain": [
       "<matplotlib.axes._subplots.AxesSubplot at 0x4298ccf748>"
      ]
     },
     "execution_count": 25,
     "metadata": {},
     "output_type": "execute_result"
    },
    {
     "data": {
      "image/png": "[encoded data removed]",
      "text/plain": [
       "<Figure size 1080x216 with 1 Axes>"
      ]
     },
     "metadata": {
      "needs_background": "light"
     },
     "output_type": "display_data"
    }
   ],
   "source": [
    "plt.subplots(figsize=(15,3))\n",
    "sns.boxplot(x=data_reviews[~data_reviews['hours'].isna()]['hours'])"
   ]
  },
  {
   "cell_type": "markdown",
   "metadata": {},
   "source": [
    "### ¿Cuál es el juego con más reviews?"
   ]
  },
  {
   "cell_type": "code",
   "execution_count": 26,
   "metadata": {},
   "outputs": [
    {
     "data": {
      "text/plain": [
       "publisher                                                         Valve\n",
       "genres                                           [Action, Free to Play]\n",
       "app_name                                                Team Fortress 2\n",
       "title                                                   Team Fortress 2\n",
       "total_hours_played                                             11502040\n",
       "url                   http://store.steampowered.com/app/440/Team_For...\n",
       "release_date                                                 2007-10-10\n",
       "tags                  [Free to Play, Multiplayer, FPS, Action, Shoot...\n",
       "discount_price                                                      NaN\n",
       "reviews_url           http://steamcommunity.com/app/440/reviews/?bro...\n",
       "specs                 [Multi-player, Cross-Platform Multiplayer, Ste...\n",
       "price                                                      Free to Play\n",
       "early_access                                                      False\n",
       "id                                                                  440\n",
       "developer                                                         Valve\n",
       "sentiment                                                 Very Positive\n",
       "metascore                                                            92\n",
       "Name: 31856, dtype: object"
      ]
     },
     "execution_count": 26,
     "metadata": {},
     "output_type": "execute_result"
    }
   ],
   "source": [
    "match.iloc[0]"
   ]
  },
  {
   "cell_type": "markdown",
   "metadata": {},
   "source": [
    "### Ordenamos los juegos por popularidad"
   ]
  },
  {
   "cell_type": "code",
   "execution_count": 27,
   "metadata": {},
   "outputs": [
    {
     "data": {
      "text/html": [
       "<div>\n",
       "<style scoped>\n",
       "    .dataframe tbody tr th:only-of-type {\n",
       "        vertical-align: middle;\n",
       "    }\n",
       "\n",
       "    .dataframe tbody tr th {\n",
       "        vertical-align: top;\n",
       "    }\n",
       "\n",
       "    .dataframe thead th {\n",
       "        text-align: right;\n",
       "    }\n",
       "</style>\n",
       "<table border=\"1\" class=\"dataframe\">\n",
       "  <thead>\n",
       "    <tr style=\"text-align: right;\">\n",
       "      <th></th>\n",
       "      <th>publisher</th>\n",
       "      <th>genres</th>\n",
       "      <th>app_name</th>\n",
       "      <th>title</th>\n",
       "      <th>total_hours_played</th>\n",
       "      <th>url</th>\n",
       "      <th>release_date</th>\n",
       "      <th>tags</th>\n",
       "      <th>discount_price</th>\n",
       "      <th>reviews_url</th>\n",
       "      <th>specs</th>\n",
       "      <th>price</th>\n",
       "      <th>early_access</th>\n",
       "      <th>id</th>\n",
       "      <th>developer</th>\n",
       "      <th>sentiment</th>\n",
       "      <th>metascore</th>\n",
       "    </tr>\n",
       "  </thead>\n",
       "  <tbody>\n",
       "    <tr>\n",
       "      <th>31856</th>\n",
       "      <td>Valve</td>\n",
       "      <td>[Action, Free to Play]</td>\n",
       "      <td>Team Fortress 2</td>\n",
       "      <td>Team Fortress 2</td>\n",
       "      <td>11502040</td>\n",
       "      <td>http://store.steampowered.com/app/440/Team_For...</td>\n",
       "      <td>2007-10-10</td>\n",
       "      <td>[Free to Play, Multiplayer, FPS, Action, Shoot...</td>\n",
       "      <td>NaN</td>\n",
       "      <td>http://steamcommunity.com/app/440/reviews/?bro...</td>\n",
       "      <td>[Multi-player, Cross-Platform Multiplayer, Ste...</td>\n",
       "      <td>Free to Play</td>\n",
       "      <td>False</td>\n",
       "      <td>440</td>\n",
       "      <td>Valve</td>\n",
       "      <td>Very Positive</td>\n",
       "      <td>92</td>\n",
       "    </tr>\n",
       "    <tr>\n",
       "      <th>29692</th>\n",
       "      <td>Facepunch Studios</td>\n",
       "      <td>[Action, Adventure, Indie, Massively Multiplay...</td>\n",
       "      <td>Rust</td>\n",
       "      <td>Rust</td>\n",
       "      <td>3696958580</td>\n",
       "      <td>http://store.steampowered.com/app/252490/Rust/</td>\n",
       "      <td>2013-12-11</td>\n",
       "      <td>[Early Access, Survival, Crafting, Multiplayer...</td>\n",
       "      <td>NaN</td>\n",
       "      <td>http://steamcommunity.com/app/252490/reviews/?...</td>\n",
       "      <td>[Multi-player, MMO, Cross-Platform Multiplayer...</td>\n",
       "      <td>19.99</td>\n",
       "      <td>True</td>\n",
       "      <td>252490</td>\n",
       "      <td>Facepunch Studios</td>\n",
       "      <td>Very Positive</td>\n",
       "      <td>NaN</td>\n",
       "    </tr>\n",
       "    <tr>\n",
       "      <th>30746</th>\n",
       "      <td>2K Games, Aspyr (Mac &amp;amp;amp; Linux)</td>\n",
       "      <td>[Action, RPG]</td>\n",
       "      <td>Borderlands 2</td>\n",
       "      <td>Borderlands 2</td>\n",
       "      <td>513918560</td>\n",
       "      <td>http://store.steampowered.com/app/49520/Border...</td>\n",
       "      <td>2012-09-17</td>\n",
       "      <td>[FPS, Co-op, Action, RPG, Loot, Shooter, Open ...</td>\n",
       "      <td>NaN</td>\n",
       "      <td>http://steamcommunity.com/app/49520/reviews/?b...</td>\n",
       "      <td>[Single-player, Co-op, Steam Achievements, Ful...</td>\n",
       "      <td>19.99</td>\n",
       "      <td>False</td>\n",
       "      <td>49520</td>\n",
       "      <td>Gearbox Software,Aspyr (Mac &amp;amp; Linux)</td>\n",
       "      <td>Overwhelmingly Positive</td>\n",
       "      <td>89</td>\n",
       "    </tr>\n",
       "    <tr>\n",
       "      <th>25017</th>\n",
       "      <td>Bethesda Softworks</td>\n",
       "      <td>[RPG]</td>\n",
       "      <td>Fallout 4</td>\n",
       "      <td>Fallout 4</td>\n",
       "      <td>3832322760</td>\n",
       "      <td>http://store.steampowered.com/app/377160/Fallo...</td>\n",
       "      <td>2015-11-09</td>\n",
       "      <td>[Open World, Post-apocalyptic, Exploration, Si...</td>\n",
       "      <td>NaN</td>\n",
       "      <td>http://steamcommunity.com/app/377160/reviews/?...</td>\n",
       "      <td>[Single-player, Steam Achievements, Full contr...</td>\n",
       "      <td>29.99</td>\n",
       "      <td>False</td>\n",
       "      <td>377160</td>\n",
       "      <td>Bethesda Game Studios</td>\n",
       "      <td>Mixed</td>\n",
       "      <td>84</td>\n",
       "    </tr>\n",
       "    <tr>\n",
       "      <th>26955</th>\n",
       "      <td>Rockstar Games</td>\n",
       "      <td>[Action, Adventure]</td>\n",
       "      <td>Grand Theft Auto V</td>\n",
       "      <td>Grand Theft Auto V</td>\n",
       "      <td>2299824120</td>\n",
       "      <td>http://store.steampowered.com/app/271590/Grand...</td>\n",
       "      <td>2015-04-14</td>\n",
       "      <td>[Open World, Action, Multiplayer, First-Person...</td>\n",
       "      <td>NaN</td>\n",
       "      <td>http://steamcommunity.com/app/271590/reviews/?...</td>\n",
       "      <td>[Single-player, Multi-player, Steam Achievemen...</td>\n",
       "      <td>39.99</td>\n",
       "      <td>False</td>\n",
       "      <td>271590</td>\n",
       "      <td>Rockstar North</td>\n",
       "      <td>Mixed</td>\n",
       "      <td>96</td>\n",
       "    </tr>\n",
       "  </tbody>\n",
       "</table>\n",
       "</div>"
      ],
      "text/plain": [
       "                                   publisher  \\\n",
       "31856                                  Valve   \n",
       "29692                      Facepunch Studios   \n",
       "30746  2K Games, Aspyr (Mac &amp;amp; Linux)   \n",
       "25017                     Bethesda Softworks   \n",
       "26955                         Rockstar Games   \n",
       "\n",
       "                                                  genres            app_name  \\\n",
       "31856                             [Action, Free to Play]     Team Fortress 2   \n",
       "29692  [Action, Adventure, Indie, Massively Multiplay...                Rust   \n",
       "30746                                      [Action, RPG]       Borderlands 2   \n",
       "25017                                              [RPG]           Fallout 4   \n",
       "26955                                [Action, Adventure]  Grand Theft Auto V   \n",
       "\n",
       "                    title total_hours_played  \\\n",
       "31856     Team Fortress 2           11502040   \n",
       "29692                Rust         3696958580   \n",
       "30746       Borderlands 2          513918560   \n",
       "25017           Fallout 4         3832322760   \n",
       "26955  Grand Theft Auto V         2299824120   \n",
       "\n",
       "                                                     url release_date  \\\n",
       "31856  http://store.steampowered.com/app/440/Team_For...   2007-10-10   \n",
       "29692     http://store.steampowered.com/app/252490/Rust/   2013-12-11   \n",
       "30746  http://store.steampowered.com/app/49520/Border...   2012-09-17   \n",
       "25017  http://store.steampowered.com/app/377160/Fallo...   2015-11-09   \n",
       "26955  http://store.steampowered.com/app/271590/Grand...   2015-04-14   \n",
       "\n",
       "                                                    tags discount_price  \\\n",
       "31856  [Free to Play, Multiplayer, FPS, Action, Shoot...            NaN   \n",
       "29692  [Early Access, Survival, Crafting, Multiplayer...            NaN   \n",
       "30746  [FPS, Co-op, Action, RPG, Loot, Shooter, Open ...            NaN   \n",
       "25017  [Open World, Post-apocalyptic, Exploration, Si...            NaN   \n",
       "26955  [Open World, Action, Multiplayer, First-Person...            NaN   \n",
       "\n",
       "                                             reviews_url  \\\n",
       "31856  http://steamcommunity.com/app/440/reviews/?bro...   \n",
       "29692  http://steamcommunity.com/app/252490/reviews/?...   \n",
       "30746  http://steamcommunity.com/app/49520/reviews/?b...   \n",
       "25017  http://steamcommunity.com/app/377160/reviews/?...   \n",
       "26955  http://steamcommunity.com/app/271590/reviews/?...   \n",
       "\n",
       "                                                   specs         price  \\\n",
       "31856  [Multi-player, Cross-Platform Multiplayer, Ste...  Free to Play   \n",
       "29692  [Multi-player, MMO, Cross-Platform Multiplayer...         19.99   \n",
       "30746  [Single-player, Co-op, Steam Achievements, Ful...         19.99   \n",
       "25017  [Single-player, Steam Achievements, Full contr...         29.99   \n",
       "26955  [Single-player, Multi-player, Steam Achievemen...         39.99   \n",
       "\n",
       "      early_access      id                                 developer  \\\n",
       "31856        False     440                                     Valve   \n",
       "29692         True  252490                         Facepunch Studios   \n",
       "30746        False   49520  Gearbox Software,Aspyr (Mac &amp; Linux)   \n",
       "25017        False  377160                     Bethesda Game Studios   \n",
       "26955        False  271590                            Rockstar North   \n",
       "\n",
       "                     sentiment metascore  \n",
       "31856            Very Positive        92  \n",
       "29692            Very Positive       NaN  \n",
       "30746  Overwhelmingly Positive        89  \n",
       "25017                    Mixed        84  \n",
       "26955                    Mixed        96  "
      ]
     },
     "execution_count": 27,
     "metadata": {},
     "output_type": "execute_result"
    }
   ],
   "source": [
    "match.head()"
   ]
  },
  {
   "cell_type": "code",
   "execution_count": 28,
   "metadata": {},
   "outputs": [
    {
     "data": {
      "text/plain": [
       "84.0    2571\n",
       "81.0    2122\n",
       "88.0    1879\n",
       "89.0    1840\n",
       "92.0    1715\n",
       "        ... \n",
       "48.0       2\n",
       "27.0       1\n",
       "20.0       1\n",
       "50.0       1\n",
       "24.0       1\n",
       "Name: metascore, Length: 61, dtype: int64"
      ]
     },
     "execution_count": 28,
     "metadata": {},
     "output_type": "execute_result"
    }
   ],
   "source": [
    "data_games = data_games.rename(columns={'id':'product_id'})\n",
    "data_reviews = data_reviews.merge(data_games, on='product_id', how='left')\n",
    "\n",
    "# Transformaremos los tipos de datos\n",
    "data_reviews.metascore = data_reviews.metascore.replace(['NA'],np.nan)\n",
    "data_reviews.metascore = data_reviews.metascore.astype(np.float32)\n",
    "data_reviews.product_id = data_reviews.product_id.astype(int) \n",
    "\n",
    "data_reviews.metascore.value_counts()"
   ]
  },
  {
   "cell_type": "code",
   "execution_count": 29,
   "metadata": {},
   "outputs": [
    {
     "name": "stdout",
     "output_type": "stream",
     "text": [
      "(44987, 27)\n",
      "(31035, 27)\n"
     ]
    }
   ],
   "source": [
    "# Eliminaremos los valores faltatentes\n",
    "\n",
    "print(data_reviews.shape)\n",
    "data_reviews = data_reviews[~data_reviews.metascore.isna()]\n",
    "print(data_reviews.shape)"
   ]
  },
  {
   "cell_type": "code",
   "execution_count": 30,
   "metadata": {},
   "outputs": [
    {
     "data": {
      "text/plain": [
       "<matplotlib.axes._subplots.AxesSubplot at 0x429c94dec8>"
      ]
     },
     "execution_count": 30,
     "metadata": {},
     "output_type": "execute_result"
    },
    {
     "data": {
      "image/png": "[encoded data removed]",
      "text/plain": [
       "<Figure size 1080x576 with 1 Axes>"
      ]
     },
     "metadata": {
      "needs_background": "light"
     },
     "output_type": "display_data"
    }
   ],
   "source": [
    "plt.subplots(figsize=(15,8))\n",
    "sns.distplot(data_reviews.metascore.astype(int).values)"
   ]
  },
  {
   "cell_type": "markdown",
   "metadata": {},
   "source": [
    "#### Observando el nivel de sesgo en la distribución de metascores, filtraremos nuestro dataset a solo las reviews y juegos con metascore mayor a 55.0"
   ]
  },
  {
   "cell_type": "code",
   "execution_count": 31,
   "metadata": {},
   "outputs": [
    {
     "data": {
      "text/plain": [
       "<matplotlib.axes._subplots.AxesSubplot at 0x42902a43c8>"
      ]
     },
     "execution_count": 31,
     "metadata": {},
     "output_type": "execute_result"
    },
    {
     "data": {
      "image/png": "[encoded data removed]",
      "text/plain": [
       "<Figure size 1080x576 with 1 Axes>"
      ]
     },
     "metadata": {
      "needs_background": "light"
     },
     "output_type": "display_data"
    }
   ],
   "source": [
    "data_reviews = data_reviews[data_reviews.metascore >= 55]\n",
    "plt.subplots(figsize=(15,8))\n",
    "sns.distplot(data_reviews.metascore.astype(int).values)"
   ]
  },
  {
   "cell_type": "code",
   "execution_count": 32,
   "metadata": {},
   "outputs": [
    {
     "data": {
      "text/html": [
       "<div>\n",
       "<style scoped>\n",
       "    .dataframe tbody tr th:only-of-type {\n",
       "        vertical-align: middle;\n",
       "    }\n",
       "\n",
       "    .dataframe tbody tr th {\n",
       "        vertical-align: top;\n",
       "    }\n",
       "\n",
       "    .dataframe thead th {\n",
       "        text-align: right;\n",
       "    }\n",
       "</style>\n",
       "<table border=\"1\" class=\"dataframe\">\n",
       "  <thead>\n",
       "    <tr style=\"text-align: right;\">\n",
       "      <th></th>\n",
       "      <th>username</th>\n",
       "      <th>hours</th>\n",
       "      <th>product_id</th>\n",
       "      <th>user_id</th>\n",
       "      <th>genres</th>\n",
       "      <th>title</th>\n",
       "      <th>price</th>\n",
       "      <th>metascore</th>\n",
       "    </tr>\n",
       "  </thead>\n",
       "  <tbody>\n",
       "    <tr>\n",
       "      <th>0</th>\n",
       "      <td>Kevin Droid</td>\n",
       "      <td>21.6</td>\n",
       "      <td>35140</td>\n",
       "      <td>76561198030870442</td>\n",
       "      <td>[Action, Adventure]</td>\n",
       "      <td>Batman: Arkham Asylum Game of the Year Edition</td>\n",
       "      <td>19.99</td>\n",
       "      <td>91.0</td>\n",
       "    </tr>\n",
       "    <tr>\n",
       "      <th>3</th>\n",
       "      <td>tung.tungnguyen trade.tf</td>\n",
       "      <td>114.8</td>\n",
       "      <td>271590</td>\n",
       "      <td>76561198211759421</td>\n",
       "      <td>[Action, Adventure]</td>\n",
       "      <td>Grand Theft Auto V</td>\n",
       "      <td>39.99</td>\n",
       "      <td>96.0</td>\n",
       "    </tr>\n",
       "  </tbody>\n",
       "</table>\n",
       "</div>"
      ],
      "text/plain": [
       "                   username  hours  product_id            user_id  \\\n",
       "0               Kevin Droid   21.6       35140  76561198030870442   \n",
       "3  tung.tungnguyen trade.tf  114.8      271590  76561198211759421   \n",
       "\n",
       "                genres                                           title  price  \\\n",
       "0  [Action, Adventure]  Batman: Arkham Asylum Game of the Year Edition  19.99   \n",
       "3  [Action, Adventure]                              Grand Theft Auto V  39.99   \n",
       "\n",
       "   metascore  \n",
       "0       91.0  \n",
       "3       96.0  "
      ]
     },
     "execution_count": 32,
     "metadata": {},
     "output_type": "execute_result"
    }
   ],
   "source": [
    "data_reviews = data_reviews.drop(columns=['products','page_order','date','text','early_access_x','page','found_funny','compensation','publisher','app_name','url','release_date','tags','discount_price','reviews_url','specs','early_access_y','developer','sentiment'])\n",
    "data_reviews.head(2)"
   ]
  },
  {
   "cell_type": "code",
   "execution_count": 33,
   "metadata": {},
   "outputs": [],
   "source": [
    "data_reviews.to_csv('data_reviews 24 12 2020.csv', sep=',')"
   ]
  },
  {
   "cell_type": "code",
   "execution_count": 34,
   "metadata": {},
   "outputs": [],
   "source": [
    "data_games = data_games[~data_games.product_id.isna()]\n",
    "data_games.product_id = data_games.product_id.astype(int)"
   ]
  },
  {
   "cell_type": "markdown",
   "metadata": {},
   "source": [
    "# Entrenamiento de modelos de sistema de recomendación\n",
    "\n",
    "Para entrenar el sistema de recomendación vamos a usar la biblioteca Surprise. Recomendamos tener abierta la [documentación](https://surprise.readthedocs.io/en/stable/getting_started.html) a medida que van a través de este notebook.\n",
    "\n",
    "El objetivo del entrenamiento del modelo es desarrollar un algoritmo que pueda predecir el feature target (usualmente relacionado con el rating o calificación de satisfacción según usuarios) para usuarios e items (juegos) que no tengan un rating asignado a su respectiva combinación."
   ]
  },
  {
   "cell_type": "markdown",
   "metadata": {},
   "source": [
    "### Eligiremos como target el feature metascore, ya que es proporcional al rating de satisfacción de cada juego"
   ]
  },
  {
   "cell_type": "code",
   "execution_count": 35,
   "metadata": {},
   "outputs": [
    {
     "name": "stdout",
     "output_type": "stream",
     "text": [
      "Requirement already satisfied: surprise in c:\\programdata\\anaconda3\\lib\\site-packages (0.1)\n",
      "Requirement already satisfied: scikit-surprise in c:\\programdata\\anaconda3\\lib\\site-packages (from surprise) (1.1.1)\n",
      "Requirement already satisfied: numpy>=1.11.2 in c:\\programdata\\anaconda3\\lib\\site-packages (from scikit-surprise->surprise) (1.18.1)\n",
      "Requirement already satisfied: joblib>=0.11 in c:\\programdata\\anaconda3\\lib\\site-packages (from scikit-surprise->surprise) (0.14.1)\n",
      "Requirement already satisfied: six>=1.10.0 in c:\\programdata\\anaconda3\\lib\\site-packages (from scikit-surprise->surprise) (1.14.0)\n",
      "Requirement already satisfied: scipy>=1.0.0 in c:\\programdata\\anaconda3\\lib\\site-packages (from scikit-surprise->surprise) (1.4.1)\n"
     ]
    },
    {
     "data": {
      "text/html": [
       "<div>\n",
       "<style scoped>\n",
       "    .dataframe tbody tr th:only-of-type {\n",
       "        vertical-align: middle;\n",
       "    }\n",
       "\n",
       "    .dataframe tbody tr th {\n",
       "        vertical-align: top;\n",
       "    }\n",
       "\n",
       "    .dataframe thead th {\n",
       "        text-align: right;\n",
       "    }\n",
       "</style>\n",
       "<table border=\"1\" class=\"dataframe\">\n",
       "  <thead>\n",
       "    <tr style=\"text-align: right;\">\n",
       "      <th></th>\n",
       "      <th>username</th>\n",
       "      <th>hours</th>\n",
       "      <th>product_id</th>\n",
       "      <th>user_id</th>\n",
       "    </tr>\n",
       "  </thead>\n",
       "  <tbody>\n",
       "    <tr>\n",
       "      <th>0</th>\n",
       "      <td>Kevin Droid</td>\n",
       "      <td>21.6</td>\n",
       "      <td>35140</td>\n",
       "      <td>76561198030870442</td>\n",
       "    </tr>\n",
       "    <tr>\n",
       "      <th>3</th>\n",
       "      <td>tung.tungnguyen trade.tf</td>\n",
       "      <td>114.8</td>\n",
       "      <td>271590</td>\n",
       "      <td>76561198211759421</td>\n",
       "    </tr>\n",
       "  </tbody>\n",
       "</table>\n",
       "</div>"
      ],
      "text/plain": [
       "                   username  hours  product_id            user_id\n",
       "0               Kevin Droid   21.6       35140  76561198030870442\n",
       "3  tung.tungnguyen trade.tf  114.8      271590  76561198211759421"
      ]
     },
     "execution_count": 35,
     "metadata": {},
     "output_type": "execute_result"
    }
   ],
   "source": [
    "!pip install surprise\n",
    "\n",
    "from surprise import Dataset\n",
    "from surprise import Reader\n",
    "from surprise.model_selection import train_test_split\n",
    "from surprise import accuracy\n",
    "from surprise import KNNBasic,  KNNWithMeans, KNNBaseline\n",
    "from surprise.model_selection import KFold\n",
    "from surprise import NormalPredictor\n",
    "from surprise.model_selection import cross_validate\n",
    "from surprise.model_selection import GridSearchCV\n",
    "\n",
    "# Parametrizamos el modelo para que el rating o metascore se interprete como una cantidad que puede variar entre 1 y 100.\n",
    "\n",
    "reader = Reader(rating_scale=(1, 100))\n",
    "\n",
    "df1 = data_reviews.copy()\n",
    "df1 = df1.drop(['metascore','genres','title','title','price'], axis=1)\n",
    "df1.head(2)"
   ]
  },
  {
   "cell_type": "code",
   "execution_count": 36,
   "metadata": {},
   "outputs": [
    {
     "data": {
      "text/html": [
       "<div>\n",
       "<style scoped>\n",
       "    .dataframe tbody tr th:only-of-type {\n",
       "        vertical-align: middle;\n",
       "    }\n",
       "\n",
       "    .dataframe tbody tr th {\n",
       "        vertical-align: top;\n",
       "    }\n",
       "\n",
       "    .dataframe thead th {\n",
       "        text-align: right;\n",
       "    }\n",
       "</style>\n",
       "<table border=\"1\" class=\"dataframe\">\n",
       "  <thead>\n",
       "    <tr style=\"text-align: right;\">\n",
       "      <th></th>\n",
       "      <th>username</th>\n",
       "      <th>hours</th>\n",
       "      <th>product_id</th>\n",
       "      <th>user_id</th>\n",
       "      <th>publisher</th>\n",
       "      <th>genres</th>\n",
       "      <th>app_name</th>\n",
       "      <th>title</th>\n",
       "      <th>url</th>\n",
       "      <th>release_date</th>\n",
       "      <th>tags</th>\n",
       "      <th>discount_price</th>\n",
       "      <th>reviews_url</th>\n",
       "      <th>specs</th>\n",
       "      <th>price</th>\n",
       "      <th>early_access</th>\n",
       "      <th>developer</th>\n",
       "      <th>sentiment</th>\n",
       "      <th>metascore</th>\n",
       "    </tr>\n",
       "  </thead>\n",
       "  <tbody>\n",
       "    <tr>\n",
       "      <th>0</th>\n",
       "      <td>Kevin Droid</td>\n",
       "      <td>21.6</td>\n",
       "      <td>35140</td>\n",
       "      <td>76561198030870442</td>\n",
       "      <td>Warner Bros. Interactive Entertainment, Feral ...</td>\n",
       "      <td>[Action, Adventure]</td>\n",
       "      <td>Batman: Arkham Asylum Game of the Year Edition</td>\n",
       "      <td>Batman: Arkham Asylum Game of the Year Edition</td>\n",
       "      <td>http://store.steampowered.com/app/35140/Batman...</td>\n",
       "      <td>2010-03-26</td>\n",
       "      <td>[Action, Batman, Stealth, Adventure, Third Per...</td>\n",
       "      <td>NaN</td>\n",
       "      <td>http://steamcommunity.com/app/35140/reviews/?b...</td>\n",
       "      <td>[Single-player, Steam Achievements, Steam Trad...</td>\n",
       "      <td>19.99</td>\n",
       "      <td>False</td>\n",
       "      <td>Rocksteady Studios,Feral Interactive (Mac)</td>\n",
       "      <td>Overwhelmingly Positive</td>\n",
       "      <td>91</td>\n",
       "    </tr>\n",
       "    <tr>\n",
       "      <th>1</th>\n",
       "      <td>Fugitive Mind</td>\n",
       "      <td>20.7</td>\n",
       "      <td>35140</td>\n",
       "      <td>76561198105445916</td>\n",
       "      <td>Warner Bros. Interactive Entertainment, Feral ...</td>\n",
       "      <td>[Action, Adventure]</td>\n",
       "      <td>Batman: Arkham Asylum Game of the Year Edition</td>\n",
       "      <td>Batman: Arkham Asylum Game of the Year Edition</td>\n",
       "      <td>http://store.steampowered.com/app/35140/Batman...</td>\n",
       "      <td>2010-03-26</td>\n",
       "      <td>[Action, Batman, Stealth, Adventure, Third Per...</td>\n",
       "      <td>NaN</td>\n",
       "      <td>http://steamcommunity.com/app/35140/reviews/?b...</td>\n",
       "      <td>[Single-player, Steam Achievements, Steam Trad...</td>\n",
       "      <td>19.99</td>\n",
       "      <td>False</td>\n",
       "      <td>Rocksteady Studios,Feral Interactive (Mac)</td>\n",
       "      <td>Overwhelmingly Positive</td>\n",
       "      <td>91</td>\n",
       "    </tr>\n",
       "  </tbody>\n",
       "</table>\n",
       "</div>"
      ],
      "text/plain": [
       "        username  hours  product_id            user_id  \\\n",
       "0    Kevin Droid   21.6       35140  76561198030870442   \n",
       "1  Fugitive Mind   20.7       35140  76561198105445916   \n",
       "\n",
       "                                           publisher               genres  \\\n",
       "0  Warner Bros. Interactive Entertainment, Feral ...  [Action, Adventure]   \n",
       "1  Warner Bros. Interactive Entertainment, Feral ...  [Action, Adventure]   \n",
       "\n",
       "                                         app_name  \\\n",
       "0  Batman: Arkham Asylum Game of the Year Edition   \n",
       "1  Batman: Arkham Asylum Game of the Year Edition   \n",
       "\n",
       "                                            title  \\\n",
       "0  Batman: Arkham Asylum Game of the Year Edition   \n",
       "1  Batman: Arkham Asylum Game of the Year Edition   \n",
       "\n",
       "                                                 url release_date  \\\n",
       "0  http://store.steampowered.com/app/35140/Batman...   2010-03-26   \n",
       "1  http://store.steampowered.com/app/35140/Batman...   2010-03-26   \n",
       "\n",
       "                                                tags  discount_price  \\\n",
       "0  [Action, Batman, Stealth, Adventure, Third Per...             NaN   \n",
       "1  [Action, Batman, Stealth, Adventure, Third Per...             NaN   \n",
       "\n",
       "                                         reviews_url  \\\n",
       "0  http://steamcommunity.com/app/35140/reviews/?b...   \n",
       "1  http://steamcommunity.com/app/35140/reviews/?b...   \n",
       "\n",
       "                                               specs  price  early_access  \\\n",
       "0  [Single-player, Steam Achievements, Steam Trad...  19.99         False   \n",
       "1  [Single-player, Steam Achievements, Steam Trad...  19.99         False   \n",
       "\n",
       "                                    developer                sentiment  \\\n",
       "0  Rocksteady Studios,Feral Interactive (Mac)  Overwhelmingly Positive   \n",
       "1  Rocksteady Studios,Feral Interactive (Mac)  Overwhelmingly Positive   \n",
       "\n",
       "  metascore  \n",
       "0        91  \n",
       "1        91  "
      ]
     },
     "execution_count": 36,
     "metadata": {},
     "output_type": "execute_result"
    }
   ],
   "source": [
    "data_games_train = data_games.copy()\n",
    "df1= pd.merge(df1, data_games_train, on='product_id', how='inner')\n",
    "df1['user_id'] = df1['user_id'].dropna()\n",
    "df1 = df1[~df1['user_id'].isnull()]\n",
    "df1 = df1[df1['metascore']!='NA']\n",
    "df1.head(2)"
   ]
  },
  {
   "cell_type": "code",
   "execution_count": 37,
   "metadata": {},
   "outputs": [
    {
     "data": {
      "text/plain": [
       "<surprise.dataset.DatasetAutoFolds at 0x429f5bcec8>"
      ]
     },
     "execution_count": 37,
     "metadata": {},
     "output_type": "execute_result"
    }
   ],
   "source": [
    "# Cargamos los datos según indica la librería Surprise, en el dataset \"data\"\n",
    "\n",
    "data = Dataset.load_from_df(df1[['user_id', 'product_id', 'metascore']], reader)\n",
    "data"
   ]
  },
  {
   "cell_type": "code",
   "execution_count": 38,
   "metadata": {},
   "outputs": [
    {
     "name": "stdout",
     "output_type": "stream",
     "text": [
      "<surprise.trainset.Trainset object at 0x000000429C2EC448>\n"
     ]
    }
   ],
   "source": [
    "# Realizamos una separación de train y test del 25%\n",
    "\n",
    "trainset, testset = train_test_split(data, test_size=.25)\n",
    "print(trainset)"
   ]
  },
  {
   "cell_type": "markdown",
   "metadata": {},
   "source": [
    "### Empezaremos por entrenar el primer modelo (SVD) sin parametrizar\n",
    "\n",
    "Entrenaremos sin especificar parámetros un modelo de recomendación basado en el algoritmo de descomposición en valores singulares (SVD). Este modelo no puede usarse para el enfoque como filtro colaborativo pero nos servirá como benchmark."
   ]
  },
  {
   "cell_type": "code",
   "execution_count": 39,
   "metadata": {},
   "outputs": [
    {
     "data": {
      "text/plain": [
       "<surprise.prediction_algorithms.matrix_factorization.SVD at 0x42b39f3d48>"
      ]
     },
     "execution_count": 39,
     "metadata": {},
     "output_type": "execute_result"
    }
   ],
   "source": [
    "from surprise import SVD\n",
    "algo = SVD()\n",
    "algo.fit(trainset)"
   ]
  },
  {
   "cell_type": "code",
   "execution_count": 40,
   "metadata": {},
   "outputs": [
    {
     "data": {
      "text/plain": [
       "Prediction(uid='76561198192931842', iid=211820, r_ui=81.0, est=81.04393013645638, details={'was_impossible': False})"
      ]
     },
     "execution_count": 40,
     "metadata": {},
     "output_type": "execute_result"
    }
   ],
   "source": [
    "predictions = algo.test(testset)\n",
    "predictions[0]"
   ]
  },
  {
   "cell_type": "markdown",
   "metadata": {},
   "source": [
    "## ¿Que significa esta predicción?\n",
    "\n",
    "El dataset \"predictions\" contiene TODAS las predicciones para cada uno de los usuarios (user_id o uid) y desde ellos, para cada uno de los juegos (product_id o iid), en donde el rating real del juego fue 85.0 (metascore o r_ui) y el estimado según el algoritmo de SVD es de 84.65."
   ]
  },
  {
   "cell_type": "code",
   "execution_count": 41,
   "metadata": {},
   "outputs": [
    {
     "data": {
      "text/html": [
       "<div>\n",
       "<style scoped>\n",
       "    .dataframe tbody tr th:only-of-type {\n",
       "        vertical-align: middle;\n",
       "    }\n",
       "\n",
       "    .dataframe tbody tr th {\n",
       "        vertical-align: top;\n",
       "    }\n",
       "\n",
       "    .dataframe thead th {\n",
       "        text-align: right;\n",
       "    }\n",
       "</style>\n",
       "<table border=\"1\" class=\"dataframe\">\n",
       "  <thead>\n",
       "    <tr style=\"text-align: right;\">\n",
       "      <th></th>\n",
       "      <th>user_id</th>\n",
       "      <th>product_id</th>\n",
       "      <th>hours</th>\n",
       "    </tr>\n",
       "  </thead>\n",
       "  <tbody>\n",
       "    <tr>\n",
       "      <th>13514</th>\n",
       "      <td>76561198135446411</td>\n",
       "      <td>208580</td>\n",
       "      <td>449.5</td>\n",
       "    </tr>\n",
       "  </tbody>\n",
       "</table>\n",
       "</div>"
      ],
      "text/plain": [
       "                 user_id  product_id  hours\n",
       "13514  76561198135446411      208580  449.5"
      ]
     },
     "execution_count": 41,
     "metadata": {},
     "output_type": "execute_result"
    }
   ],
   "source": [
    "df1[['user_id', 'product_id', 'hours']][df1['user_id']=='76561198135446411']"
   ]
  },
  {
   "cell_type": "markdown",
   "metadata": {},
   "source": [
    "### Usuarios con mayor cantidad de reviews"
   ]
  },
  {
   "cell_type": "code",
   "execution_count": 42,
   "metadata": {},
   "outputs": [
    {
     "data": {
      "text/plain": [
       "76561197969749884    56\n",
       "76561198010800766    13\n",
       "76561198011965365    11\n",
       "76561198010131631    10\n",
       "76561198043627942    10\n",
       "                     ..\n",
       "76561198027265213     1\n",
       "76561198289930181     1\n",
       "76561198020870372     1\n",
       "76561197976794215     1\n",
       "76561198095408505     1\n",
       "Name: user_id, Length: 16763, dtype: int64"
      ]
     },
     "execution_count": 42,
     "metadata": {},
     "output_type": "execute_result"
    }
   ],
   "source": [
    "data_reviews.user_id.value_counts()"
   ]
  },
  {
   "cell_type": "code",
   "execution_count": 43,
   "metadata": {},
   "outputs": [
    {
     "data": {
      "text/html": [
       "<div>\n",
       "<style scoped>\n",
       "    .dataframe tbody tr th:only-of-type {\n",
       "        vertical-align: middle;\n",
       "    }\n",
       "\n",
       "    .dataframe tbody tr th {\n",
       "        vertical-align: top;\n",
       "    }\n",
       "\n",
       "    .dataframe thead th {\n",
       "        text-align: right;\n",
       "    }\n",
       "</style>\n",
       "<table border=\"1\" class=\"dataframe\">\n",
       "  <thead>\n",
       "    <tr style=\"text-align: right;\">\n",
       "      <th></th>\n",
       "      <th>username</th>\n",
       "      <th>hours</th>\n",
       "      <th>product_id</th>\n",
       "      <th>user_id</th>\n",
       "      <th>genres</th>\n",
       "      <th>title</th>\n",
       "      <th>price</th>\n",
       "      <th>metascore</th>\n",
       "    </tr>\n",
       "  </thead>\n",
       "  <tbody>\n",
       "    <tr>\n",
       "      <th>177</th>\n",
       "      <td>Sarkoth</td>\n",
       "      <td>53.9</td>\n",
       "      <td>234710</td>\n",
       "      <td>76561197969749884</td>\n",
       "      <td>[Casual, Sports]</td>\n",
       "      <td>Poker Night 2</td>\n",
       "      <td>4.99</td>\n",
       "      <td>75.0</td>\n",
       "    </tr>\n",
       "    <tr>\n",
       "      <th>284</th>\n",
       "      <td>Sarkoth</td>\n",
       "      <td>67.4</td>\n",
       "      <td>308420</td>\n",
       "      <td>76561197969749884</td>\n",
       "      <td>[Action, Indie, RPG]</td>\n",
       "      <td>Ziggurat</td>\n",
       "      <td>14.99</td>\n",
       "      <td>75.0</td>\n",
       "    </tr>\n",
       "    <tr>\n",
       "      <th>962</th>\n",
       "      <td>Sarkoth</td>\n",
       "      <td>49.2</td>\n",
       "      <td>204530</td>\n",
       "      <td>76561197969749884</td>\n",
       "      <td>[Action, Indie, Strategy]</td>\n",
       "      <td>Infested Planet</td>\n",
       "      <td>14.99</td>\n",
       "      <td>75.0</td>\n",
       "    </tr>\n",
       "  </tbody>\n",
       "</table>\n",
       "</div>"
      ],
      "text/plain": [
       "    username  hours  product_id            user_id                     genres  \\\n",
       "177  Sarkoth   53.9      234710  76561197969749884           [Casual, Sports]   \n",
       "284  Sarkoth   67.4      308420  76561197969749884       [Action, Indie, RPG]   \n",
       "962  Sarkoth   49.2      204530  76561197969749884  [Action, Indie, Strategy]   \n",
       "\n",
       "               title  price  metascore  \n",
       "177    Poker Night 2   4.99       75.0  \n",
       "284         Ziggurat  14.99       75.0  \n",
       "962  Infested Planet  14.99       75.0  "
      ]
     },
     "execution_count": 43,
     "metadata": {},
     "output_type": "execute_result"
    }
   ],
   "source": [
    "data_reviews[data_reviews.user_id=='76561197969749884'].head(3) #Es el user_id con mayor cantidad de reviews realizadas"
   ]
  },
  {
   "cell_type": "code",
   "execution_count": 44,
   "metadata": {},
   "outputs": [
    {
     "data": {
      "text/html": [
       "<div>\n",
       "<style scoped>\n",
       "    .dataframe tbody tr th:only-of-type {\n",
       "        vertical-align: middle;\n",
       "    }\n",
       "\n",
       "    .dataframe tbody tr th {\n",
       "        vertical-align: top;\n",
       "    }\n",
       "\n",
       "    .dataframe thead th {\n",
       "        text-align: right;\n",
       "    }\n",
       "</style>\n",
       "<table border=\"1\" class=\"dataframe\">\n",
       "  <thead>\n",
       "    <tr style=\"text-align: right;\">\n",
       "      <th></th>\n",
       "      <th>publisher</th>\n",
       "      <th>genres</th>\n",
       "      <th>app_name</th>\n",
       "      <th>title</th>\n",
       "      <th>url</th>\n",
       "      <th>release_date</th>\n",
       "      <th>tags</th>\n",
       "      <th>discount_price</th>\n",
       "      <th>reviews_url</th>\n",
       "      <th>specs</th>\n",
       "      <th>price</th>\n",
       "      <th>early_access</th>\n",
       "      <th>product_id</th>\n",
       "      <th>developer</th>\n",
       "      <th>sentiment</th>\n",
       "      <th>metascore</th>\n",
       "    </tr>\n",
       "  </thead>\n",
       "  <tbody>\n",
       "    <tr>\n",
       "      <th>1362</th>\n",
       "      <td>Telltale Games</td>\n",
       "      <td>[Casual, Sports]</td>\n",
       "      <td>Poker Night 2</td>\n",
       "      <td>Poker Night 2</td>\n",
       "      <td>http://store.steampowered.com/app/234710/Poker...</td>\n",
       "      <td>2013-04-26</td>\n",
       "      <td>[Casual, Card Game, Comedy, Singleplayer, Gamb...</td>\n",
       "      <td>NaN</td>\n",
       "      <td>http://steamcommunity.com/app/234710/reviews/?...</td>\n",
       "      <td>[Single-player, Full controller support]</td>\n",
       "      <td>4.99</td>\n",
       "      <td>False</td>\n",
       "      <td>234710</td>\n",
       "      <td>Telltale Games</td>\n",
       "      <td>Very Positive</td>\n",
       "      <td>75</td>\n",
       "    </tr>\n",
       "  </tbody>\n",
       "</table>\n",
       "</div>"
      ],
      "text/plain": [
       "           publisher            genres       app_name          title  \\\n",
       "1362  Telltale Games  [Casual, Sports]  Poker Night 2  Poker Night 2   \n",
       "\n",
       "                                                    url release_date  \\\n",
       "1362  http://store.steampowered.com/app/234710/Poker...   2013-04-26   \n",
       "\n",
       "                                                   tags  discount_price  \\\n",
       "1362  [Casual, Card Game, Comedy, Singleplayer, Gamb...             NaN   \n",
       "\n",
       "                                            reviews_url  \\\n",
       "1362  http://steamcommunity.com/app/234710/reviews/?...   \n",
       "\n",
       "                                         specs price  early_access  \\\n",
       "1362  [Single-player, Full controller support]  4.99         False   \n",
       "\n",
       "      product_id       developer      sentiment metascore  \n",
       "1362      234710  Telltale Games  Very Positive        75  "
      ]
     },
     "execution_count": 44,
     "metadata": {},
     "output_type": "execute_result"
    }
   ],
   "source": [
    "data_games[data_games.product_id==234710] #Es uno de los juegos que 76561197969749884 hizo review"
   ]
  },
  {
   "cell_type": "code",
   "execution_count": 45,
   "metadata": {},
   "outputs": [
    {
     "data": {
      "text/plain": [
       "Prediction(uid=76561197969749884, iid=234710, r_ui=None, est=81.48699256010944, details={'was_impossible': False})"
      ]
     },
     "execution_count": 45,
     "metadata": {},
     "output_type": "execute_result"
    }
   ],
   "source": [
    "algo.predict(76561197969749884,234710)"
   ]
  },
  {
   "cell_type": "markdown",
   "metadata": {},
   "source": [
    "### La predicción anterior significa que para el usuario de id \"76561197969749884\" y el juego \"234710\" el modelo predice un metascore (rating) de \"81.44/100\"\n",
    "\n",
    "Esto en realidad es un problema ya que como comprobamos en la celda anterior, el metascore real fue mucho menor, en 75.0 de metascore"
   ]
  },
  {
   "cell_type": "markdown",
   "metadata": {},
   "source": [
    "Exploremos un usuario, veamos cuáles juegos le gustaron y cuáles les recomienda el sistema.\n",
    "\n",
    "Juegos que le gustaron"
   ]
  },
  {
   "cell_type": "code",
   "execution_count": 46,
   "metadata": {},
   "outputs": [
    {
     "data": {
      "text/plain": [
       "count     44\n",
       "unique    19\n",
       "top       75\n",
       "freq       6\n",
       "Name: metascore, dtype: int64"
      ]
     },
     "execution_count": 46,
     "metadata": {},
     "output_type": "execute_result"
    }
   ],
   "source": [
    "usuario = '76561197969749884'\n",
    "df_user = df1[(df1['user_id'] == usuario) & (df1['metascore'] >= 70.0)]\n",
    "df_user = df_user.reset_index(drop=True)\n",
    "df_user.metascore.describe()"
   ]
  },
  {
   "cell_type": "markdown",
   "metadata": {},
   "source": [
    "Creamos un dataframe en donde vamos a guardar las recomendaciones"
   ]
  },
  {
   "cell_type": "code",
   "execution_count": 47,
   "metadata": {},
   "outputs": [
    {
     "name": "stdout",
     "output_type": "stream",
     "text": [
      "(4499, 1)\n"
     ]
    },
    {
     "data": {
      "text/html": [
       "<div>\n",
       "<style scoped>\n",
       "    .dataframe tbody tr th:only-of-type {\n",
       "        vertical-align: middle;\n",
       "    }\n",
       "\n",
       "    .dataframe tbody tr th {\n",
       "        vertical-align: top;\n",
       "    }\n",
       "\n",
       "    .dataframe thead th {\n",
       "        text-align: right;\n",
       "    }\n",
       "</style>\n",
       "<table border=\"1\" class=\"dataframe\">\n",
       "  <thead>\n",
       "    <tr style=\"text-align: right;\">\n",
       "      <th></th>\n",
       "      <th>title</th>\n",
       "    </tr>\n",
       "    <tr>\n",
       "      <th>product_id</th>\n",
       "      <th></th>\n",
       "    </tr>\n",
       "  </thead>\n",
       "  <tbody>\n",
       "    <tr>\n",
       "      <th>761140</th>\n",
       "      <td>Lost Summoner Kitty</td>\n",
       "    </tr>\n",
       "    <tr>\n",
       "      <th>643980</th>\n",
       "      <td>Ironbound</td>\n",
       "    </tr>\n",
       "    <tr>\n",
       "      <th>670290</th>\n",
       "      <td>Real Pool 3D - Poolians</td>\n",
       "    </tr>\n",
       "    <tr>\n",
       "      <th>767400</th>\n",
       "      <td>弹炸人2222</td>\n",
       "    </tr>\n",
       "    <tr>\n",
       "      <th>773570</th>\n",
       "      <td>NaN</td>\n",
       "    </tr>\n",
       "  </tbody>\n",
       "</table>\n",
       "</div>"
      ],
      "text/plain": [
       "                              title\n",
       "product_id                         \n",
       "761140          Lost Summoner Kitty\n",
       "643980                    Ironbound\n",
       "670290      Real Pool 3D - Poolians\n",
       "767400                      弹炸人2222\n",
       "773570                          NaN"
      ]
     },
     "execution_count": 47,
     "metadata": {},
     "output_type": "execute_result"
    }
   ],
   "source": [
    "recomendaciones_usuario = data_games[['title','product_id']].iloc[:4499].copy()\n",
    "recomendaciones_usuario.index = recomendaciones_usuario.product_id\n",
    "recomendaciones_usuario = recomendaciones_usuario.drop(['product_id'], axis=1)\n",
    "print(recomendaciones_usuario.shape)\n",
    "recomendaciones_usuario.head()"
   ]
  },
  {
   "cell_type": "code",
   "execution_count": 48,
   "metadata": {},
   "outputs": [
    {
     "name": "stdout",
     "output_type": "stream",
     "text": [
      "(56, 3)\n"
     ]
    },
    {
     "data": {
      "text/html": [
       "<div>\n",
       "<style scoped>\n",
       "    .dataframe tbody tr th:only-of-type {\n",
       "        vertical-align: middle;\n",
       "    }\n",
       "\n",
       "    .dataframe tbody tr th {\n",
       "        vertical-align: top;\n",
       "    }\n",
       "\n",
       "    .dataframe thead th {\n",
       "        text-align: right;\n",
       "    }\n",
       "</style>\n",
       "<table border=\"1\" class=\"dataframe\">\n",
       "  <thead>\n",
       "    <tr style=\"text-align: right;\">\n",
       "      <th></th>\n",
       "      <th>user_id</th>\n",
       "      <th>product_id</th>\n",
       "      <th>metascore</th>\n",
       "    </tr>\n",
       "  </thead>\n",
       "  <tbody>\n",
       "    <tr>\n",
       "      <th>762</th>\n",
       "      <td>76561197969749884</td>\n",
       "      <td>234710</td>\n",
       "      <td>75</td>\n",
       "    </tr>\n",
       "    <tr>\n",
       "      <th>896</th>\n",
       "      <td>76561197969749884</td>\n",
       "      <td>308420</td>\n",
       "      <td>75</td>\n",
       "    </tr>\n",
       "    <tr>\n",
       "      <th>1660</th>\n",
       "      <td>76561197969749884</td>\n",
       "      <td>204530</td>\n",
       "      <td>75</td>\n",
       "    </tr>\n",
       "    <tr>\n",
       "      <th>1876</th>\n",
       "      <td>76561197969749884</td>\n",
       "      <td>214340</td>\n",
       "      <td>74</td>\n",
       "    </tr>\n",
       "    <tr>\n",
       "      <th>2091</th>\n",
       "      <td>76561197969749884</td>\n",
       "      <td>18120</td>\n",
       "      <td>73</td>\n",
       "    </tr>\n",
       "  </tbody>\n",
       "</table>\n",
       "</div>"
      ],
      "text/plain": [
       "                user_id  product_id metascore\n",
       "762   76561197969749884      234710        75\n",
       "896   76561197969749884      308420        75\n",
       "1660  76561197969749884      204530        75\n",
       "1876  76561197969749884      214340        74\n",
       "2091  76561197969749884       18120        73"
      ]
     },
     "execution_count": 48,
     "metadata": {},
     "output_type": "execute_result"
    }
   ],
   "source": [
    "usuario_vistas = df1[['user_id', 'product_id', 'metascore']][df1['user_id'] == usuario]\n",
    "print(usuario_vistas.shape)\n",
    "usuario_vistas.head()"
   ]
  },
  {
   "cell_type": "code",
   "execution_count": 49,
   "metadata": {},
   "outputs": [
    {
     "data": {
      "text/html": [
       "<div>\n",
       "<style scoped>\n",
       "    .dataframe tbody tr th:only-of-type {\n",
       "        vertical-align: middle;\n",
       "    }\n",
       "\n",
       "    .dataframe tbody tr th {\n",
       "        vertical-align: top;\n",
       "    }\n",
       "\n",
       "    .dataframe thead th {\n",
       "        text-align: right;\n",
       "    }\n",
       "</style>\n",
       "<table border=\"1\" class=\"dataframe\">\n",
       "  <thead>\n",
       "    <tr style=\"text-align: right;\">\n",
       "      <th></th>\n",
       "      <th>product_id</th>\n",
       "      <th>title</th>\n",
       "    </tr>\n",
       "  </thead>\n",
       "  <tbody>\n",
       "    <tr>\n",
       "      <th>0</th>\n",
       "      <td>761140</td>\n",
       "      <td>Lost Summoner Kitty</td>\n",
       "    </tr>\n",
       "    <tr>\n",
       "      <th>1</th>\n",
       "      <td>643980</td>\n",
       "      <td>Ironbound</td>\n",
       "    </tr>\n",
       "    <tr>\n",
       "      <th>2</th>\n",
       "      <td>670290</td>\n",
       "      <td>Real Pool 3D - Poolians</td>\n",
       "    </tr>\n",
       "    <tr>\n",
       "      <th>3</th>\n",
       "      <td>767400</td>\n",
       "      <td>弹炸人2222</td>\n",
       "    </tr>\n",
       "    <tr>\n",
       "      <th>4</th>\n",
       "      <td>773570</td>\n",
       "      <td>NaN</td>\n",
       "    </tr>\n",
       "  </tbody>\n",
       "</table>\n",
       "</div>"
      ],
      "text/plain": [
       "   product_id                    title\n",
       "0      761140      Lost Summoner Kitty\n",
       "1      643980                Ironbound\n",
       "2      670290  Real Pool 3D - Poolians\n",
       "3      767400                  弹炸人2222\n",
       "4      773570                      NaN"
      ]
     },
     "execution_count": 49,
     "metadata": {},
     "output_type": "execute_result"
    }
   ],
   "source": [
    "recomendaciones_usuario = recomendaciones_usuario.reset_index()\n",
    "recomendaciones_usuario.head()"
   ]
  },
  {
   "cell_type": "markdown",
   "metadata": {},
   "source": [
    "Y hacemos las recomendaciones"
   ]
  },
  {
   "cell_type": "code",
   "execution_count": 50,
   "metadata": {},
   "outputs": [
    {
     "data": {
      "text/html": [
       "<div>\n",
       "<style scoped>\n",
       "    .dataframe tbody tr th:only-of-type {\n",
       "        vertical-align: middle;\n",
       "    }\n",
       "\n",
       "    .dataframe tbody tr th {\n",
       "        vertical-align: top;\n",
       "    }\n",
       "\n",
       "    .dataframe thead th {\n",
       "        text-align: right;\n",
       "    }\n",
       "</style>\n",
       "<table border=\"1\" class=\"dataframe\">\n",
       "  <thead>\n",
       "    <tr style=\"text-align: right;\">\n",
       "      <th></th>\n",
       "      <th>product_id</th>\n",
       "      <th>title</th>\n",
       "      <th>Estimate_Score</th>\n",
       "    </tr>\n",
       "  </thead>\n",
       "  <tbody>\n",
       "    <tr>\n",
       "      <th>188</th>\n",
       "      <td>22000</td>\n",
       "      <td>World of Goo</td>\n",
       "      <td>90.500052</td>\n",
       "    </tr>\n",
       "    <tr>\n",
       "      <th>556</th>\n",
       "      <td>12120</td>\n",
       "      <td>Grand Theft Auto: San Andreas</td>\n",
       "      <td>89.985235</td>\n",
       "    </tr>\n",
       "    <tr>\n",
       "      <th>98</th>\n",
       "      <td>4760</td>\n",
       "      <td>Rome: Total War™ - Collection</td>\n",
       "      <td>89.584914</td>\n",
       "    </tr>\n",
       "    <tr>\n",
       "      <th>95</th>\n",
       "      <td>7670</td>\n",
       "      <td>BioShock™</td>\n",
       "      <td>89.470116</td>\n",
       "    </tr>\n",
       "    <tr>\n",
       "      <th>631</th>\n",
       "      <td>620</td>\n",
       "      <td>Portal 2</td>\n",
       "      <td>89.470089</td>\n",
       "    </tr>\n",
       "    <tr>\n",
       "      <th>252</th>\n",
       "      <td>22330</td>\n",
       "      <td>The Elder Scrolls IV: Oblivion® Game of the Ye...</td>\n",
       "      <td>89.380197</td>\n",
       "    </tr>\n",
       "    <tr>\n",
       "      <th>253</th>\n",
       "      <td>22320</td>\n",
       "      <td>The Elder Scrolls III: Morrowind® Game of the ...</td>\n",
       "      <td>89.078064</td>\n",
       "    </tr>\n",
       "    <tr>\n",
       "      <th>28</th>\n",
       "      <td>70</td>\n",
       "      <td>Half-Life</td>\n",
       "      <td>88.691381</td>\n",
       "    </tr>\n",
       "    <tr>\n",
       "      <th>4366</th>\n",
       "      <td>391540</td>\n",
       "      <td>Undertale</td>\n",
       "      <td>87.374998</td>\n",
       "    </tr>\n",
       "    <tr>\n",
       "      <th>2653</th>\n",
       "      <td>240760</td>\n",
       "      <td>Wasteland 2: Director's Cut</td>\n",
       "      <td>86.958400</td>\n",
       "    </tr>\n",
       "  </tbody>\n",
       "</table>\n",
       "</div>"
      ],
      "text/plain": [
       "      product_id                                              title  \\\n",
       "188        22000                                       World of Goo   \n",
       "556        12120                      Grand Theft Auto: San Andreas   \n",
       "98          4760                      Rome: Total War™ - Collection   \n",
       "95          7670                                          BioShock™   \n",
       "631          620                                           Portal 2   \n",
       "252        22330  The Elder Scrolls IV: Oblivion® Game of the Ye...   \n",
       "253        22320  The Elder Scrolls III: Morrowind® Game of the ...   \n",
       "28            70                                          Half-Life   \n",
       "4366      391540                                          Undertale   \n",
       "2653      240760                        Wasteland 2: Director's Cut   \n",
       "\n",
       "      Estimate_Score  \n",
       "188        90.500052  \n",
       "556        89.985235  \n",
       "98         89.584914  \n",
       "95         89.470116  \n",
       "631        89.470089  \n",
       "252        89.380197  \n",
       "253        89.078064  \n",
       "28         88.691381  \n",
       "4366       87.374998  \n",
       "2653       86.958400  "
      ]
     },
     "execution_count": 50,
     "metadata": {},
     "output_type": "execute_result"
    }
   ],
   "source": [
    "recomendaciones_usuario['Estimate_Score'] = recomendaciones_usuario['product_id'].apply(lambda x: algo.predict(usuario, x).est)\n",
    "recomendaciones_usuario = recomendaciones_usuario.sort_values('Estimate_Score', ascending=False)\n",
    "recomendaciones_usuario.head(10)"
   ]
  },
  {
   "cell_type": "code",
   "execution_count": 51,
   "metadata": {},
   "outputs": [
    {
     "data": {
      "text/plain": [
       "(4499, 3)"
      ]
     },
     "execution_count": 51,
     "metadata": {},
     "output_type": "execute_result"
    }
   ],
   "source": [
    "recomendaciones_usuario.shape"
   ]
  },
  {
   "cell_type": "markdown",
   "metadata": {},
   "source": [
    "#### Si bien las recomendaciones se efectuaron basadas en juegos de alto metascore, ninguno de los juegos coincide con los que jugó el usuario en realidad. Esto es un problema."
   ]
  },
  {
   "cell_type": "markdown",
   "metadata": {},
   "source": [
    "###  Evaluación usando métrica RMSE\n",
    "\n",
    "Para el conjunto de `testset`, evaluamos el error RMSE entre las predicciones.\n",
    "\n",
    "RMSE es solo la raíz cuadrada de MSE. La raíz cuadrada se introduce para hacer que la escala de los errores sea igual a la escala de los objetivos.\n",
    "\n",
    "Usaremos RMSE ya que al tomar la raíz cuadrada de MSE, aumentamos la sensibilidad a errores consdierados como outliers."
   ]
  },
  {
   "cell_type": "code",
   "execution_count": 52,
   "metadata": {},
   "outputs": [
    {
     "name": "stdout",
     "output_type": "stream",
     "text": [
      "RMSE: 3.1471\n",
      "RMSE: 3.1471\n"
     ]
    },
    {
     "data": {
      "text/plain": [
       "3.1471406993814504"
      ]
     },
     "execution_count": 52,
     "metadata": {},
     "output_type": "execute_result"
    }
   ],
   "source": [
    "from surprise import accuracy\n",
    "\n",
    "rmse_svd_1 = accuracy.rmse(predictions)\n",
    "\n",
    "accuracy.rmse(predictions)"
   ]
  },
  {
   "cell_type": "markdown",
   "metadata": {},
   "source": [
    "### Optimización de parámetros, segundo modelo (SVD)"
   ]
  },
  {
   "cell_type": "code",
   "execution_count": 53,
   "metadata": {},
   "outputs": [
    {
     "name": "stdout",
     "output_type": "stream",
     "text": [
      "1\n",
      "Evaluating RMSE of algorithm SVD on 3 split(s).\n",
      "\n",
      "                  Fold 1  Fold 2  Fold 3  Mean    Std     \n",
      "RMSE (testset)    2.8101  2.7212  2.6402  2.7238  0.0694  \n",
      "Fit time          0.30    0.30    0.31    0.30    0.00    \n",
      "Test time         0.06    0.06    0.07    0.06    0.00    \n",
      "2\n",
      "Evaluating RMSE of algorithm SVD on 3 split(s).\n",
      "\n",
      "                  Fold 1  Fold 2  Fold 3  Mean    Std     \n",
      "RMSE (testset)    2.7230  2.7420  2.7500  2.7383  0.0113  \n",
      "Fit time          0.31    0.30    0.32    0.31    0.01    \n",
      "Test time         0.06    0.06    0.06    0.06    0.00    \n",
      "4\n",
      "Evaluating RMSE of algorithm SVD on 3 split(s).\n",
      "\n",
      "                  Fold 1  Fold 2  Fold 3  Mean    Std     \n",
      "RMSE (testset)    2.6587  2.8156  2.8295  2.7679  0.0775  \n",
      "Fit time          0.33    0.31    0.32    0.32    0.01    \n",
      "Test time         0.07    0.13    0.06    0.09    0.03    \n",
      "8\n",
      "Evaluating RMSE of algorithm SVD on 3 split(s).\n",
      "\n",
      "                  Fold 1  Fold 2  Fold 3  Mean    Std     \n",
      "RMSE (testset)    2.9261  2.6739  2.8445  2.8148  0.1051  \n",
      "Fit time          0.36    0.37    0.36    0.36    0.00    \n",
      "Test time         0.06    0.06    0.06    0.06    0.00    \n",
      "16\n",
      "Evaluating RMSE of algorithm SVD on 3 split(s).\n",
      "\n",
      "                  Fold 1  Fold 2  Fold 3  Mean    Std     \n",
      "RMSE (testset)    2.8792  2.9408  2.7485  2.8562  0.0802  \n",
      "Fit time          0.45    0.43    0.44    0.44    0.01    \n",
      "Test time         0.06    0.06    0.13    0.08    0.03    \n",
      "32\n",
      "Evaluating RMSE of algorithm SVD on 3 split(s).\n",
      "\n",
      "                  Fold 1  Fold 2  Fold 3  Mean    Std     \n",
      "RMSE (testset)    2.9758  2.9840  2.9707  2.9768  0.0055  \n",
      "Fit time          0.59    0.58    0.58    0.58    0.00    \n",
      "Test time         0.06    0.06    0.06    0.06    0.00    \n",
      "64\n",
      "Evaluating RMSE of algorithm SVD on 3 split(s).\n",
      "\n",
      "                  Fold 1  Fold 2  Fold 3  Mean    Std     \n",
      "RMSE (testset)    2.9320  3.1920  3.1264  3.0835  0.1104  \n",
      "Fit time          0.86    0.86    0.87    0.87    0.00    \n",
      "Test time         0.06    0.06    0.06    0.06    0.00    \n",
      "128\n",
      "Evaluating RMSE of algorithm SVD on 3 split(s).\n",
      "\n",
      "                  Fold 1  Fold 2  Fold 3  Mean    Std     \n",
      "RMSE (testset)    3.2965  3.1413  3.4146  3.2841  0.1119  \n",
      "Fit time          1.41    1.39    1.40    1.40    0.01    \n",
      "Test time         0.06    0.06    0.06    0.06    0.00    \n",
      "256\n",
      "Evaluating RMSE of algorithm SVD on 3 split(s).\n",
      "\n",
      "                  Fold 1  Fold 2  Fold 3  Mean    Std     \n",
      "RMSE (testset)    3.5819  3.4520  3.5095  3.5144  0.0531  \n",
      "Fit time          2.49    2.48    2.50    2.49    0.01    \n",
      "Test time         0.13    0.06    0.06    0.08    0.03    \n"
     ]
    }
   ],
   "source": [
    "from surprise.model_selection import cross_validate\n",
    "\n",
    "rmse_test_means = []\n",
    "factores = [1,2,4,8,16,32,64,128,256]\n",
    "\n",
    "for factor in factores:\n",
    "    print(factor)\n",
    "    algo = SVD(n_factors=factor)\n",
    "    cv = cross_validate(algo, data, measures=['RMSE'], cv = 3, verbose=True)\n",
    "    rmse_test_means.append(np.mean(cv['test_rmse']))"
   ]
  },
  {
   "cell_type": "code",
   "execution_count": 54,
   "metadata": {},
   "outputs": [
    {
     "data": {
      "image/png": "[encoded data removed]",
      "text/plain": [
       "<Figure size 432x288 with 1 Axes>"
      ]
     },
     "metadata": {
      "needs_background": "light"
     },
     "output_type": "display_data"
    }
   ],
   "source": [
    "plt.scatter(factores, rmse_test_means)\n",
    "plt.xlabel('Numero de factores')\n",
    "plt.ylabel('Error RMSE')\n",
    "plt.show()"
   ]
  },
  {
   "cell_type": "code",
   "execution_count": 55,
   "metadata": {},
   "outputs": [],
   "source": [
    "from surprise.model_selection import GridSearchCV\n",
    "\n",
    "param_grid = {'n_factors': [5,50,100],'n_epochs': [5, 10,20], 'lr_all': [0.001, 0.002, 0.005],\n",
    "              'reg_all': [0.002, 0.02, 0.2]}\n",
    "gs = GridSearchCV(SVD, param_grid, measures=['rmse'], cv=3, n_jobs = -1)\n",
    "gs.fit(data)"
   ]
  },
  {
   "cell_type": "code",
   "execution_count": 56,
   "metadata": {},
   "outputs": [
    {
     "name": "stdout",
     "output_type": "stream",
     "text": [
      "2.7579721822809127\n",
      "{'n_factors': 5, 'n_epochs': 20, 'lr_all': 0.005, 'reg_all': 0.002}\n"
     ]
    }
   ],
   "source": [
    "print(gs.best_score['rmse'])\n",
    "print(gs.best_params['rmse'])"
   ]
  },
  {
   "cell_type": "code",
   "execution_count": 57,
   "metadata": {},
   "outputs": [
    {
     "name": "stdout",
     "output_type": "stream",
     "text": [
      "1\n",
      "Evaluating RMSE of algorithm SVD on 3 split(s).\n",
      "\n",
      "                  Fold 1  Fold 2  Fold 3  Mean    Std     \n",
      "RMSE (testset)    2.6312  2.7814  2.7029  2.7052  0.0613  \n",
      "Fit time          0.30    0.28    0.29    0.29    0.01    \n",
      "Test time         0.06    0.06    0.06    0.06    0.00    \n",
      "2\n",
      "Evaluating RMSE of algorithm SVD on 3 split(s).\n",
      "\n",
      "                  Fold 1  Fold 2  Fold 3  Mean    Std     \n",
      "RMSE (testset)    2.6815  2.6979  2.7720  2.7171  0.0393  \n",
      "Fit time          0.30    0.29    0.30    0.30    0.00    \n",
      "Test time         0.06    0.06    0.12    0.08    0.03    \n",
      "4\n",
      "Evaluating RMSE of algorithm SVD on 3 split(s).\n",
      "\n",
      "                  Fold 1  Fold 2  Fold 3  Mean    Std     \n",
      "RMSE (testset)    2.7698  2.6750  2.7903  2.7450  0.0502  \n",
      "Fit time          0.32    0.31    0.32    0.32    0.01    \n",
      "Test time         0.06    0.06    0.06    0.06    0.00    \n",
      "5\n",
      "Evaluating RMSE of algorithm SVD on 3 split(s).\n",
      "\n",
      "                  Fold 1  Fold 2  Fold 3  Mean    Std     \n",
      "RMSE (testset)    2.8756  2.6507  2.7640  2.7634  0.0918  \n",
      "Fit time          0.33    0.32    0.33    0.33    0.01    \n",
      "Test time         0.06    0.06    0.06    0.06    0.00    \n",
      "8\n",
      "Evaluating RMSE of algorithm SVD on 3 split(s).\n",
      "\n",
      "                  Fold 1  Fold 2  Fold 3  Mean    Std     \n",
      "RMSE (testset)    2.7387  2.7956  2.8462  2.7935  0.0439  \n",
      "Fit time          0.36    0.35    0.36    0.36    0.00    \n",
      "Test time         0.12    0.06    0.06    0.08    0.03    \n",
      "16\n",
      "Evaluating RMSE of algorithm SVD on 3 split(s).\n",
      "\n",
      "                  Fold 1  Fold 2  Fold 3  Mean    Std     \n",
      "RMSE (testset)    2.7550  2.8696  2.8926  2.8391  0.0602  \n",
      "Fit time          0.44    0.43    0.43    0.43    0.00    \n",
      "Test time         0.06    0.06    0.06    0.06    0.00    \n",
      "32\n",
      "Evaluating RMSE of algorithm SVD on 3 split(s).\n",
      "\n",
      "                  Fold 1  Fold 2  Fold 3  Mean    Std     \n",
      "RMSE (testset)    2.9456  2.8913  2.9725  2.9365  0.0338  \n",
      "Fit time          0.58    0.57    0.57    0.57    0.00    \n",
      "Test time         0.06    0.13    0.06    0.08    0.03    \n",
      "64\n",
      "Evaluating RMSE of algorithm SVD on 3 split(s).\n",
      "\n",
      "                  Fold 1  Fold 2  Fold 3  Mean    Std     \n",
      "RMSE (testset)    3.1216  3.0339  3.0171  3.0575  0.0458  \n",
      "Fit time          0.85    0.85    0.85    0.85    0.00    \n",
      "Test time         0.06    0.06    0.06    0.06    0.00    \n",
      "128\n",
      "Evaluating RMSE of algorithm SVD on 3 split(s).\n",
      "\n",
      "                  Fold 1  Fold 2  Fold 3  Mean    Std     \n",
      "RMSE (testset)    3.2584  3.2133  3.2525  3.2414  0.0200  \n",
      "Fit time          1.39    1.39    1.39    1.39    0.00    \n",
      "Test time         0.06    0.06    0.13    0.08    0.03    \n",
      "256\n",
      "Evaluating RMSE of algorithm SVD on 3 split(s).\n",
      "\n",
      "                  Fold 1  Fold 2  Fold 3  Mean    Std     \n",
      "RMSE (testset)    3.6531  3.4283  3.3641  3.4818  0.1239  \n",
      "Fit time          2.49    2.49    2.49    2.49    0.00    \n",
      "Test time         0.06    0.06    0.06    0.06    0.00    \n"
     ]
    }
   ],
   "source": [
    "rmse_test_means = []\n",
    "factores = [1,2,4,5,8,16,32,64,128,256]\n",
    "\n",
    "for factor in factores:\n",
    "    print(factor)\n",
    "    algo = SVD(n_factors=factor, n_epochs=20, lr_all=0.005, reg_all=0.002)\n",
    "    cv = cross_validate(algo, data, measures=['RMSE'], cv = 3, verbose=True)\n",
    "    rmse_test_means.append(np.mean(cv['test_rmse']))"
   ]
  },
  {
   "cell_type": "code",
   "execution_count": 58,
   "metadata": {},
   "outputs": [
    {
     "data": {
      "image/png": "[encoded data removed]",
      "text/plain": [
       "<Figure size 432x288 with 1 Axes>"
      ]
     },
     "metadata": {
      "needs_background": "light"
     },
     "output_type": "display_data"
    }
   ],
   "source": [
    "plt.scatter(factores, rmse_test_means)\n",
    "plt.xlabel('Numero de factores')\n",
    "plt.ylabel('Error RMSE')\n",
    "plt.show()"
   ]
  },
  {
   "cell_type": "markdown",
   "metadata": {},
   "source": [
    "### Con estos parámetros, reentrenaremos un tercer modelo (SVD) y mediremos las recomendaciones:"
   ]
  },
  {
   "cell_type": "code",
   "execution_count": 59,
   "metadata": {},
   "outputs": [],
   "source": [
    "reader = Reader(rating_scale=(1, 100))\n",
    "data = Dataset.load_from_df(df1[['user_id', 'product_id', 'metascore']], reader)\n",
    "trainset, testset = train_test_split(data, test_size=.25)\n",
    "algo = SVD(n_factors=5, n_epochs=20, lr_all=0.005, reg_all=0.002)\n",
    "algo.fit(trainset)\n",
    "predictions = algo.test(testset)"
   ]
  },
  {
   "cell_type": "code",
   "execution_count": 60,
   "metadata": {},
   "outputs": [
    {
     "name": "stdout",
     "output_type": "stream",
     "text": [
      "(4499, 1)\n"
     ]
    },
    {
     "data": {
      "text/html": [
       "<div>\n",
       "<style scoped>\n",
       "    .dataframe tbody tr th:only-of-type {\n",
       "        vertical-align: middle;\n",
       "    }\n",
       "\n",
       "    .dataframe tbody tr th {\n",
       "        vertical-align: top;\n",
       "    }\n",
       "\n",
       "    .dataframe thead th {\n",
       "        text-align: right;\n",
       "    }\n",
       "</style>\n",
       "<table border=\"1\" class=\"dataframe\">\n",
       "  <thead>\n",
       "    <tr style=\"text-align: right;\">\n",
       "      <th></th>\n",
       "      <th>title</th>\n",
       "    </tr>\n",
       "    <tr>\n",
       "      <th>product_id</th>\n",
       "      <th></th>\n",
       "    </tr>\n",
       "  </thead>\n",
       "  <tbody>\n",
       "    <tr>\n",
       "      <th>761140</th>\n",
       "      <td>Lost Summoner Kitty</td>\n",
       "    </tr>\n",
       "    <tr>\n",
       "      <th>643980</th>\n",
       "      <td>Ironbound</td>\n",
       "    </tr>\n",
       "    <tr>\n",
       "      <th>670290</th>\n",
       "      <td>Real Pool 3D - Poolians</td>\n",
       "    </tr>\n",
       "    <tr>\n",
       "      <th>767400</th>\n",
       "      <td>弹炸人2222</td>\n",
       "    </tr>\n",
       "    <tr>\n",
       "      <th>773570</th>\n",
       "      <td>NaN</td>\n",
       "    </tr>\n",
       "  </tbody>\n",
       "</table>\n",
       "</div>"
      ],
      "text/plain": [
       "                              title\n",
       "product_id                         \n",
       "761140          Lost Summoner Kitty\n",
       "643980                    Ironbound\n",
       "670290      Real Pool 3D - Poolians\n",
       "767400                      弹炸人2222\n",
       "773570                          NaN"
      ]
     },
     "execution_count": 60,
     "metadata": {},
     "output_type": "execute_result"
    }
   ],
   "source": [
    "usuario = 76561198011965365\n",
    "df_user = df1[(df1['user_id'] == usuario) & (df1['metascore'] >= 70.0)]\n",
    "df_user = df_user.reset_index(drop=True)\n",
    "\n",
    "recomendaciones_usuario = data_games[['title','product_id']].iloc[:4499].copy()\n",
    "recomendaciones_usuario.index = recomendaciones_usuario.product_id\n",
    "recomendaciones_usuario = recomendaciones_usuario.drop(['product_id'], axis=1)\n",
    "print(recomendaciones_usuario.shape)\n",
    "recomendaciones_usuario.head()"
   ]
  },
  {
   "cell_type": "code",
   "execution_count": 61,
   "metadata": {},
   "outputs": [
    {
     "name": "stdout",
     "output_type": "stream",
     "text": [
      "(0, 3)\n"
     ]
    },
    {
     "data": {
      "text/html": [
       "<div>\n",
       "<style scoped>\n",
       "    .dataframe tbody tr th:only-of-type {\n",
       "        vertical-align: middle;\n",
       "    }\n",
       "\n",
       "    .dataframe tbody tr th {\n",
       "        vertical-align: top;\n",
       "    }\n",
       "\n",
       "    .dataframe thead th {\n",
       "        text-align: right;\n",
       "    }\n",
       "</style>\n",
       "<table border=\"1\" class=\"dataframe\">\n",
       "  <thead>\n",
       "    <tr style=\"text-align: right;\">\n",
       "      <th></th>\n",
       "      <th>user_id</th>\n",
       "      <th>product_id</th>\n",
       "      <th>metascore</th>\n",
       "    </tr>\n",
       "  </thead>\n",
       "  <tbody>\n",
       "  </tbody>\n",
       "</table>\n",
       "</div>"
      ],
      "text/plain": [
       "Empty DataFrame\n",
       "Columns: [user_id, product_id, metascore]\n",
       "Index: []"
      ]
     },
     "execution_count": 61,
     "metadata": {},
     "output_type": "execute_result"
    }
   ],
   "source": [
    "usuario_vistas = df1[['user_id', 'product_id', 'metascore']][df1['user_id'] == usuario]\n",
    "print(usuario_vistas.shape)\n",
    "usuario_vistas.head()"
   ]
  },
  {
   "cell_type": "code",
   "execution_count": 62,
   "metadata": {},
   "outputs": [
    {
     "data": {
      "text/html": [
       "<div>\n",
       "<style scoped>\n",
       "    .dataframe tbody tr th:only-of-type {\n",
       "        vertical-align: middle;\n",
       "    }\n",
       "\n",
       "    .dataframe tbody tr th {\n",
       "        vertical-align: top;\n",
       "    }\n",
       "\n",
       "    .dataframe thead th {\n",
       "        text-align: right;\n",
       "    }\n",
       "</style>\n",
       "<table border=\"1\" class=\"dataframe\">\n",
       "  <thead>\n",
       "    <tr style=\"text-align: right;\">\n",
       "      <th></th>\n",
       "      <th>product_id</th>\n",
       "      <th>title</th>\n",
       "    </tr>\n",
       "  </thead>\n",
       "  <tbody>\n",
       "    <tr>\n",
       "      <th>0</th>\n",
       "      <td>761140</td>\n",
       "      <td>Lost Summoner Kitty</td>\n",
       "    </tr>\n",
       "    <tr>\n",
       "      <th>1</th>\n",
       "      <td>643980</td>\n",
       "      <td>Ironbound</td>\n",
       "    </tr>\n",
       "    <tr>\n",
       "      <th>2</th>\n",
       "      <td>670290</td>\n",
       "      <td>Real Pool 3D - Poolians</td>\n",
       "    </tr>\n",
       "    <tr>\n",
       "      <th>3</th>\n",
       "      <td>767400</td>\n",
       "      <td>弹炸人2222</td>\n",
       "    </tr>\n",
       "    <tr>\n",
       "      <th>4</th>\n",
       "      <td>773570</td>\n",
       "      <td>NaN</td>\n",
       "    </tr>\n",
       "  </tbody>\n",
       "</table>\n",
       "</div>"
      ],
      "text/plain": [
       "   product_id                    title\n",
       "0      761140      Lost Summoner Kitty\n",
       "1      643980                Ironbound\n",
       "2      670290  Real Pool 3D - Poolians\n",
       "3      767400                  弹炸人2222\n",
       "4      773570                      NaN"
      ]
     },
     "execution_count": 62,
     "metadata": {},
     "output_type": "execute_result"
    }
   ],
   "source": [
    "recomendaciones_usuario = recomendaciones_usuario.reset_index()\n",
    "recomendaciones_usuario.head()"
   ]
  },
  {
   "cell_type": "code",
   "execution_count": 63,
   "metadata": {},
   "outputs": [
    {
     "data": {
      "text/html": [
       "<div>\n",
       "<style scoped>\n",
       "    .dataframe tbody tr th:only-of-type {\n",
       "        vertical-align: middle;\n",
       "    }\n",
       "\n",
       "    .dataframe tbody tr th {\n",
       "        vertical-align: top;\n",
       "    }\n",
       "\n",
       "    .dataframe thead th {\n",
       "        text-align: right;\n",
       "    }\n",
       "</style>\n",
       "<table border=\"1\" class=\"dataframe\">\n",
       "  <thead>\n",
       "    <tr style=\"text-align: right;\">\n",
       "      <th></th>\n",
       "      <th>product_id</th>\n",
       "      <th>title</th>\n",
       "      <th>Estimate_Score</th>\n",
       "    </tr>\n",
       "  </thead>\n",
       "  <tbody>\n",
       "    <tr>\n",
       "      <th>28</th>\n",
       "      <td>70</td>\n",
       "      <td>Half-Life</td>\n",
       "      <td>95.120082</td>\n",
       "    </tr>\n",
       "    <tr>\n",
       "      <th>631</th>\n",
       "      <td>620</td>\n",
       "      <td>Portal 2</td>\n",
       "      <td>94.939495</td>\n",
       "    </tr>\n",
       "    <tr>\n",
       "      <th>95</th>\n",
       "      <td>7670</td>\n",
       "      <td>BioShock™</td>\n",
       "      <td>94.852909</td>\n",
       "    </tr>\n",
       "    <tr>\n",
       "      <th>252</th>\n",
       "      <td>22330</td>\n",
       "      <td>The Elder Scrolls IV: Oblivion® Game of the Ye...</td>\n",
       "      <td>93.779822</td>\n",
       "    </tr>\n",
       "    <tr>\n",
       "      <th>556</th>\n",
       "      <td>12120</td>\n",
       "      <td>Grand Theft Auto: San Andreas</td>\n",
       "      <td>92.155700</td>\n",
       "    </tr>\n",
       "    <tr>\n",
       "      <th>4366</th>\n",
       "      <td>391540</td>\n",
       "      <td>Undertale</td>\n",
       "      <td>91.941863</td>\n",
       "    </tr>\n",
       "    <tr>\n",
       "      <th>98</th>\n",
       "      <td>4760</td>\n",
       "      <td>Rome: Total War™ - Collection</td>\n",
       "      <td>91.479342</td>\n",
       "    </tr>\n",
       "    <tr>\n",
       "      <th>1672</th>\n",
       "      <td>238010</td>\n",
       "      <td>Deus Ex: Human Revolution - Director's Cut</td>\n",
       "      <td>90.886490</td>\n",
       "    </tr>\n",
       "    <tr>\n",
       "      <th>358</th>\n",
       "      <td>22370</td>\n",
       "      <td>Fallout 3: Game of the Year Edition</td>\n",
       "      <td>90.673085</td>\n",
       "    </tr>\n",
       "    <tr>\n",
       "      <th>493</th>\n",
       "      <td>8930</td>\n",
       "      <td>Sid Meier's Civilization® V</td>\n",
       "      <td>89.989729</td>\n",
       "    </tr>\n",
       "  </tbody>\n",
       "</table>\n",
       "</div>"
      ],
      "text/plain": [
       "      product_id                                              title  \\\n",
       "28            70                                          Half-Life   \n",
       "631          620                                           Portal 2   \n",
       "95          7670                                          BioShock™   \n",
       "252        22330  The Elder Scrolls IV: Oblivion® Game of the Ye...   \n",
       "556        12120                      Grand Theft Auto: San Andreas   \n",
       "4366      391540                                          Undertale   \n",
       "98          4760                      Rome: Total War™ - Collection   \n",
       "1672      238010         Deus Ex: Human Revolution - Director's Cut   \n",
       "358        22370                Fallout 3: Game of the Year Edition   \n",
       "493         8930                        Sid Meier's Civilization® V   \n",
       "\n",
       "      Estimate_Score  \n",
       "28         95.120082  \n",
       "631        94.939495  \n",
       "95         94.852909  \n",
       "252        93.779822  \n",
       "556        92.155700  \n",
       "4366       91.941863  \n",
       "98         91.479342  \n",
       "1672       90.886490  \n",
       "358        90.673085  \n",
       "493        89.989729  "
      ]
     },
     "execution_count": 63,
     "metadata": {},
     "output_type": "execute_result"
    }
   ],
   "source": [
    "recomendaciones_usuario['Estimate_Score'] = recomendaciones_usuario['product_id'].apply(lambda x: algo.predict(usuario, x).est)\n",
    "recomendaciones_usuario = recomendaciones_usuario.sort_values('Estimate_Score', ascending=False)\n",
    "recomendaciones_usuario.head(10)"
   ]
  },
  {
   "cell_type": "code",
   "execution_count": 64,
   "metadata": {},
   "outputs": [
    {
     "data": {
      "text/html": [
       "<div>\n",
       "<style scoped>\n",
       "    .dataframe tbody tr th:only-of-type {\n",
       "        vertical-align: middle;\n",
       "    }\n",
       "\n",
       "    .dataframe tbody tr th {\n",
       "        vertical-align: top;\n",
       "    }\n",
       "\n",
       "    .dataframe thead th {\n",
       "        text-align: right;\n",
       "    }\n",
       "</style>\n",
       "<table border=\"1\" class=\"dataframe\">\n",
       "  <thead>\n",
       "    <tr style=\"text-align: right;\">\n",
       "      <th></th>\n",
       "      <th>product_id</th>\n",
       "      <th>title</th>\n",
       "      <th>metascore</th>\n",
       "      <th>tags</th>\n",
       "    </tr>\n",
       "  </thead>\n",
       "  <tbody>\n",
       "    <tr>\n",
       "      <th>751</th>\n",
       "      <td>45770</td>\n",
       "      <td>Dead Rising 2: Off the Record</td>\n",
       "      <td>66</td>\n",
       "      <td>[Action, Zombies, Adventure, Open World, Onlin...</td>\n",
       "    </tr>\n",
       "    <tr>\n",
       "      <th>204</th>\n",
       "      <td>9480</td>\n",
       "      <td>Saints Row 2</td>\n",
       "      <td>72</td>\n",
       "      <td>[Open World, Action, Sandbox, Character Custom...</td>\n",
       "    </tr>\n",
       "    <tr>\n",
       "      <th>723</th>\n",
       "      <td>63940</td>\n",
       "      <td>Men of War: Vietnam</td>\n",
       "      <td>68</td>\n",
       "      <td>[Strategy, RTS, War, Tactical, Real Time Tacti...</td>\n",
       "    </tr>\n",
       "    <tr>\n",
       "      <th>31771</th>\n",
       "      <td>17460</td>\n",
       "      <td>Mass Effect</td>\n",
       "      <td>89</td>\n",
       "      <td>[RPG, Sci-fi, Story Rich, Action, Third-Person...</td>\n",
       "    </tr>\n",
       "    <tr>\n",
       "      <th>31095</th>\n",
       "      <td>105450</td>\n",
       "      <td>Age of Empires® III: Complete Collection</td>\n",
       "      <td>81</td>\n",
       "      <td>[Strategy, RTS, Base Building, Historical, Mul...</td>\n",
       "    </tr>\n",
       "  </tbody>\n",
       "</table>\n",
       "</div>"
      ],
      "text/plain": [
       "       product_id                                     title metascore  \\\n",
       "751         45770             Dead Rising 2: Off the Record        66   \n",
       "204          9480                              Saints Row 2        72   \n",
       "723         63940                       Men of War: Vietnam        68   \n",
       "31771       17460                               Mass Effect        89   \n",
       "31095      105450  Age of Empires® III: Complete Collection        81   \n",
       "\n",
       "                                                    tags  \n",
       "751    [Action, Zombies, Adventure, Open World, Onlin...  \n",
       "204    [Open World, Action, Sandbox, Character Custom...  \n",
       "723    [Strategy, RTS, War, Tactical, Real Time Tacti...  \n",
       "31771  [RPG, Sci-fi, Story Rich, Action, Third-Person...  \n",
       "31095  [Strategy, RTS, Base Building, Historical, Mul...  "
      ]
     },
     "execution_count": 64,
     "metadata": {},
     "output_type": "execute_result"
    }
   ],
   "source": [
    "match=pd.DataFrame()\n",
    "for i in range(0,len(data_reviews[data_reviews.user_id=='76561198011965365'])):\n",
    "    match=match.append(data_games[data_games.product_id==data_reviews[data_reviews.user_id=='76561198011965365'].product_id.values[i]])\n",
    "match[['product_id','title','metascore','tags']].head()"
   ]
  },
  {
   "cell_type": "code",
   "execution_count": 65,
   "metadata": {},
   "outputs": [
    {
     "name": "stdout",
     "output_type": "stream",
     "text": [
      "RMSE: 2.7395\n",
      "RMSE: 2.7395\n"
     ]
    },
    {
     "data": {
      "text/plain": [
       "2.7394998298325715"
      ]
     },
     "execution_count": 65,
     "metadata": {},
     "output_type": "execute_result"
    }
   ],
   "source": [
    "rmse_svd_3 = accuracy.rmse(predictions)\n",
    "\n",
    "accuracy.rmse(predictions)"
   ]
  },
  {
   "cell_type": "markdown",
   "metadata": {},
   "source": [
    "### Ahora aplicaremos el concepto de Filtro Colaborativo y observaremos la mejora en el performace del modelo"
   ]
  },
  {
   "cell_type": "markdown",
   "metadata": {},
   "source": [
    "https://pankaj-tiwari2.medium.com/neighborhood-based-collaborative-filtering-in-python-using-surprise-fe9d5700cb58"
   ]
  },
  {
   "cell_type": "markdown",
   "metadata": {},
   "source": [
    "#### Crearemos un anti_set, que consiste de los pares de usuarios y juegos que no existen en el dataset original. Este es el set en el cual desemos predecir los metascores."
   ]
  },
  {
   "cell_type": "code",
   "execution_count": 66,
   "metadata": {},
   "outputs": [],
   "source": [
    "data_final = data_reviews[['user_id', 'product_id', 'metascore']][:100000]\n",
    "reader = Reader(rating_scale=(1, 100))\n",
    "# The columns must correspond to user id, item id and metascores (in that order).\n",
    "data = Dataset.load_from_df(data_final, reader)\n",
    "anti_set = data.build_full_trainset().build_anti_testset()"
   ]
  },
  {
   "cell_type": "markdown",
   "metadata": {},
   "source": [
    "#### Lo normal para el antiset es que genere para cada usuario o juego faltante, un metascore promedio correspondiente"
   ]
  },
  {
   "cell_type": "code",
   "execution_count": 67,
   "metadata": {},
   "outputs": [],
   "source": [
    "games = data_reviews[['product_id' , 'title']].drop_duplicates(['product_id' , 'title'])\n",
    "users = data_reviews[['user_id' , 'username']].drop_duplicates(['user_id' , 'username'])"
   ]
  },
  {
   "cell_type": "markdown",
   "metadata": {},
   "source": [
    "#### Usaremos vecinos mas cercanos ya que es compatible con Filtro Colaborativo y similitud de coseno:"
   ]
  },
  {
   "cell_type": "code",
   "execution_count": 68,
   "metadata": {},
   "outputs": [
    {
     "name": "stdout",
     "output_type": "stream",
     "text": [
      "Computing the msd similarity matrix...\n",
      "Done computing similarity matrix.\n",
      "RMSE: 6.8290\n",
      "Computing the msd similarity matrix...\n",
      "Done computing similarity matrix.\n",
      "RMSE: 6.7834\n",
      "Computing the msd similarity matrix...\n",
      "Done computing similarity matrix.\n",
      "RMSE: 6.9562\n"
     ]
    }
   ],
   "source": [
    "kf = KFold(n_splits=3)\n",
    "algo = KNNBasic()\n",
    "best_algo = None\n",
    "best_rmse = 1000.0\n",
    "best_pred = None\n",
    "for trainset, testset in kf.split(data):\n",
    "    # train and test algorithm.\n",
    "    algo.fit(trainset)\n",
    "    predictions = algo.test(testset)\n",
    "    # Compute and print Root Mean Squared Error\n",
    "    rmse = accuracy.rmse(predictions, verbose=True)\n",
    "    if rmse < best_rmse:\n",
    "        best_algo = algo\n",
    "        best_pred = predictions"
   ]
  },
  {
   "cell_type": "markdown",
   "metadata": {},
   "source": [
    "### Según la referencia que usamos, el RMSE que estamos obteniendo resulta alto. Continuamos generando más modelos y resultados para comparar.\n",
    "\n",
    "### Entrenaremos un quinto modelo, con otro tipo de KNN"
   ]
  },
  {
   "cell_type": "code",
   "execution_count": 69,
   "metadata": {},
   "outputs": [
    {
     "name": "stdout",
     "output_type": "stream",
     "text": [
      "Computing the cosine similarity matrix...\n",
      "Done computing similarity matrix.\n",
      "RMSE: 7.9709\n",
      "Computing the cosine similarity matrix...\n",
      "Done computing similarity matrix.\n",
      "RMSE: 8.0232\n",
      "Computing the cosine similarity matrix...\n",
      "Done computing similarity matrix.\n",
      "RMSE: 8.0615\n",
      "Computing the cosine similarity matrix...\n",
      "Done computing similarity matrix.\n",
      "RMSE: 8.0243\n",
      "Computing the cosine similarity matrix...\n",
      "Done computing similarity matrix.\n",
      "RMSE: 7.8697\n",
      "7.869690917372629\n"
     ]
    }
   ],
   "source": [
    "kf = KFold(n_splits=5)\n",
    "sim_options = {'name':'cosine'}\n",
    "algo = KNNWithMeans(sim_options = sim_options)\n",
    "best_algo = None\n",
    "best_rmse = 1000.0\n",
    "best_pred = None\n",
    "for trainset, testset in kf.split(data):\n",
    "    # train and test algorithm.\n",
    "    algo.fit(trainset)\n",
    "    predictions = algo.test(testset)\n",
    "    # Compute and print Root Mean Squared Error\n",
    "    rmse = accuracy.rmse(predictions, verbose=True)\n",
    "    if rmse < best_rmse:\n",
    "        best_algo = algo\n",
    "        best_rmse= rmse\n",
    "        best_pred = predictions\n",
    "\n",
    "rmse_knn_1 = best_rmse   \n",
    "print(best_rmse)"
   ]
  },
  {
   "cell_type": "markdown",
   "metadata": {},
   "source": [
    "### Usando opciones de similitud de coseno en el algoritmo, entrenaremos un sexto modelo. \n",
    "\n",
    "https://gist.github.com/pankajti/e631e8f6ce067fc76dfacedd9e4923ca#file-surprise_knn_recommendation-ipynb"
   ]
  },
  {
   "cell_type": "code",
   "execution_count": 70,
   "metadata": {},
   "outputs": [
    {
     "name": "stdout",
     "output_type": "stream",
     "text": [
      "Computing the cosine similarity matrix...\n",
      "Done computing similarity matrix.\n",
      "RMSE: 4.5585\n",
      "Computing the cosine similarity matrix...\n",
      "Done computing similarity matrix.\n",
      "RMSE: 4.6525\n",
      "Computing the cosine similarity matrix...\n",
      "Done computing similarity matrix.\n",
      "RMSE: 4.6196\n",
      "Computing the cosine similarity matrix...\n",
      "Done computing similarity matrix.\n",
      "RMSE: 4.7089\n",
      "Computing the cosine similarity matrix...\n",
      "Done computing similarity matrix.\n",
      "RMSE: 4.6539\n",
      "4.558512818783419\n"
     ]
    }
   ],
   "source": [
    "sim_options = {'name': 'cosine' ,'user_based':  False}\n",
    "kf = KFold(n_splits=5)\n",
    "algo = KNNWithMeans(k =3 , sim_options = sim_options)\n",
    "best_algo = None\n",
    "best_rmse = 1000.0\n",
    "best_pred = None\n",
    "for trainset, testset in kf.split(data):\n",
    "    # train and test algorithm.\n",
    "    algo.fit(trainset)\n",
    "    predictions = algo.test(testset)\n",
    "    # Compute and print Root Mean Squared Error\n",
    "    rmse = accuracy.rmse(predictions, verbose=True)\n",
    "    if rmse < best_rmse:\n",
    "        best_rmse= rmse\n",
    "        best_algo = algo\n",
    "        best_pred = predictions\n",
    "        \n",
    "rmse_knn_2 = best_rmse   \n",
    "print(best_rmse)"
   ]
  },
  {
   "cell_type": "markdown",
   "metadata": {},
   "source": [
    "### Gridsearch KNN"
   ]
  },
  {
   "cell_type": "code",
   "execution_count": 71,
   "metadata": {},
   "outputs": [
    {
     "name": "stdout",
     "output_type": "stream",
     "text": [
      "8.10097217628874\n",
      "{'n_factors': 3, 'n_epochs': 3, 'lr_all': 0.001, 'reg_all': 0.002}\n"
     ]
    }
   ],
   "source": [
    "param_grid = {'n_factors': [3,4,5,50,100],'n_epochs': [3,4,5,10,20], 'lr_all': [0.001, 0.002, 0.005],\n",
    "              'reg_all': [0.002, 0.02, 0.2]}\n",
    "gs = GridSearchCV(KNNWithMeans, param_grid, measures=['rmse'], cv=3, n_jobs = -1)\n",
    "gs.fit(data)\n",
    "\n",
    "print(gs.best_score['rmse'])\n",
    "print(gs.best_params['rmse'])"
   ]
  },
  {
   "cell_type": "code",
   "execution_count": 72,
   "metadata": {},
   "outputs": [
    {
     "name": "stdout",
     "output_type": "stream",
     "text": [
      "2.993514709607082\n",
      "{'n_factors': 3, 'n_epochs': 3, 'lr_all': 0.001, 'reg_all': 0.002}\n"
     ]
    }
   ],
   "source": [
    "param_grid = {'n_factors': [3,4,5,50,100],'n_epochs': [3,4,5,10,20], 'lr_all': [0.001, 0.002, 0.005],\n",
    "              'reg_all': [0.002, 0.02, 0.2]}\n",
    "gs = GridSearchCV(KNNBaseline, param_grid, measures=['rmse'], cv=3, n_jobs = -1)\n",
    "gs.fit(data)\n",
    "\n",
    "print(gs.best_score['rmse'])\n",
    "print(gs.best_params['rmse'])"
   ]
  },
  {
   "cell_type": "markdown",
   "metadata": {},
   "source": [
    "### Usando los parámetros del Gridsearch, entrenaremos un séptimo modelo"
   ]
  },
  {
   "cell_type": "code",
   "execution_count": 74,
   "metadata": {},
   "outputs": [
    {
     "name": "stdout",
     "output_type": "stream",
     "text": [
      "Estimating biases using als...\n",
      "Computing the cosine similarity matrix...\n",
      "Done computing similarity matrix.\n",
      "RMSE: 2.9201\n",
      "Estimating biases using als...\n",
      "Computing the cosine similarity matrix...\n",
      "Done computing similarity matrix.\n",
      "RMSE: 2.8616\n",
      "Estimating biases using als...\n",
      "Computing the cosine similarity matrix...\n",
      "Done computing similarity matrix.\n",
      "RMSE: 2.9246\n",
      "Estimating biases using als...\n",
      "Computing the cosine similarity matrix...\n",
      "Done computing similarity matrix.\n",
      "RMSE: 2.8998\n",
      "Estimating biases using als...\n",
      "Computing the cosine similarity matrix...\n",
      "Done computing similarity matrix.\n",
      "RMSE: 2.9558\n",
      "2.861613993759488\n"
     ]
    }
   ],
   "source": [
    "# Usar parámetros del gridsearch\n",
    "\n",
    "sim_options = {'name': 'cosine' ,'user_based':  False}\n",
    "kf = KFold(n_splits=5)\n",
    "algo = KNNBaseline(k =3 , sim_options = sim_options)\n",
    "best_algo = None\n",
    "best_rmse = 1000.0\n",
    "best_pred = None\n",
    "for trainset, testset in kf.split(data):\n",
    "    # train and test algorithm.\n",
    "    algo.fit(trainset)\n",
    "    predictions = algo.test(testset)\n",
    "    # Compute and print Root Mean Squared Error\n",
    "    rmse = accuracy.rmse(predictions, verbose=True)\n",
    "    if rmse < best_rmse:\n",
    "        best_rmse= rmse\n",
    "        best_algo = algo\n",
    "        best_pred = predictions\n",
    "        \n",
    "rmse_knn_3 = best_rmse   \n",
    "print(best_rmse)"
   ]
  },
  {
   "cell_type": "markdown",
   "metadata": {},
   "source": [
    "### Análisis de predicciones para datos conocidos"
   ]
  },
  {
   "cell_type": "code",
   "execution_count": 75,
   "metadata": {
    "scrolled": true
   },
   "outputs": [
    {
     "data": {
      "text/html": [
       "<div>\n",
       "<style scoped>\n",
       "    .dataframe tbody tr th:only-of-type {\n",
       "        vertical-align: middle;\n",
       "    }\n",
       "\n",
       "    .dataframe tbody tr th {\n",
       "        vertical-align: top;\n",
       "    }\n",
       "\n",
       "    .dataframe thead th {\n",
       "        text-align: right;\n",
       "    }\n",
       "</style>\n",
       "<table border=\"1\" class=\"dataframe\">\n",
       "  <thead>\n",
       "    <tr style=\"text-align: right;\">\n",
       "      <th></th>\n",
       "      <th>uid</th>\n",
       "      <th>iid</th>\n",
       "      <th>username</th>\n",
       "      <th>user_id</th>\n",
       "      <th>title</th>\n",
       "      <th>product_id</th>\n",
       "      <th>est</th>\n",
       "      <th>metascore</th>\n",
       "    </tr>\n",
       "  </thead>\n",
       "  <tbody>\n",
       "    <tr>\n",
       "      <th>0</th>\n",
       "      <td>76561198060870160</td>\n",
       "      <td>402570</td>\n",
       "      <td>Mr.Tonguesoff(Mr Krabs Unfair)</td>\n",
       "      <td>76561198060870160</td>\n",
       "      <td>Atlas Reactor</td>\n",
       "      <td>402570</td>\n",
       "      <td>81.237792</td>\n",
       "      <td>81.0</td>\n",
       "    </tr>\n",
       "    <tr>\n",
       "      <th>1</th>\n",
       "      <td>76561198118240131</td>\n",
       "      <td>377160</td>\n",
       "      <td>Chris</td>\n",
       "      <td>76561198118240131</td>\n",
       "      <td>Fallout 4</td>\n",
       "      <td>377160</td>\n",
       "      <td>83.980253</td>\n",
       "      <td>84.0</td>\n",
       "    </tr>\n",
       "    <tr>\n",
       "      <th>2</th>\n",
       "      <td>76561198030665293</td>\n",
       "      <td>214490</td>\n",
       "      <td>Scuzzlebutt</td>\n",
       "      <td>76561198030665293</td>\n",
       "      <td>Alien: Isolation</td>\n",
       "      <td>214490</td>\n",
       "      <td>81.200299</td>\n",
       "      <td>81.0</td>\n",
       "    </tr>\n",
       "    <tr>\n",
       "      <th>3</th>\n",
       "      <td>76561198135702357</td>\n",
       "      <td>551730</td>\n",
       "      <td>Cenosys</td>\n",
       "      <td>76561198135702357</td>\n",
       "      <td>Toukiden 2</td>\n",
       "      <td>551730</td>\n",
       "      <td>78.866629</td>\n",
       "      <td>73.0</td>\n",
       "    </tr>\n",
       "    <tr>\n",
       "      <th>4</th>\n",
       "      <td>76561198171411650</td>\n",
       "      <td>440</td>\n",
       "      <td>The critpotato</td>\n",
       "      <td>76561198171411650</td>\n",
       "      <td>Team Fortress 2</td>\n",
       "      <td>440</td>\n",
       "      <td>92.000000</td>\n",
       "      <td>92.0</td>\n",
       "    </tr>\n",
       "    <tr>\n",
       "      <th>...</th>\n",
       "      <td>...</td>\n",
       "      <td>...</td>\n",
       "      <td>...</td>\n",
       "      <td>...</td>\n",
       "      <td>...</td>\n",
       "      <td>...</td>\n",
       "      <td>...</td>\n",
       "      <td>...</td>\n",
       "    </tr>\n",
       "    <tr>\n",
       "      <th>7579</th>\n",
       "      <td>76561197972483399</td>\n",
       "      <td>228260</td>\n",
       "      <td>Hamburger! N00BS welcome!</td>\n",
       "      <td>76561197972483399</td>\n",
       "      <td>Fallen Enchantress: Legendary Heroes</td>\n",
       "      <td>228260</td>\n",
       "      <td>80.144038</td>\n",
       "      <td>80.0</td>\n",
       "    </tr>\n",
       "    <tr>\n",
       "      <th>7580</th>\n",
       "      <td>76561198032943558</td>\n",
       "      <td>367520</td>\n",
       "      <td>frosty0993</td>\n",
       "      <td>76561198032943558</td>\n",
       "      <td>Hollow Knight</td>\n",
       "      <td>367520</td>\n",
       "      <td>85.448481</td>\n",
       "      <td>86.0</td>\n",
       "    </tr>\n",
       "    <tr>\n",
       "      <th>7581</th>\n",
       "      <td>76561198003340520</td>\n",
       "      <td>2820</td>\n",
       "      <td>NoneSmith</td>\n",
       "      <td>76561198003340520</td>\n",
       "      <td>X3: Terran Conflict</td>\n",
       "      <td>2820</td>\n",
       "      <td>76.887630</td>\n",
       "      <td>73.0</td>\n",
       "    </tr>\n",
       "    <tr>\n",
       "      <th>7582</th>\n",
       "      <td>76561197998928520</td>\n",
       "      <td>8930</td>\n",
       "      <td>bump</td>\n",
       "      <td>76561197998928520</td>\n",
       "      <td>Sid Meier's Civilization® V</td>\n",
       "      <td>8930</td>\n",
       "      <td>89.923293</td>\n",
       "      <td>90.0</td>\n",
       "    </tr>\n",
       "    <tr>\n",
       "      <th>7583</th>\n",
       "      <td>76561197993956978</td>\n",
       "      <td>212070</td>\n",
       "      <td>Doddger</td>\n",
       "      <td>76561197993956978</td>\n",
       "      <td>Star Conflict</td>\n",
       "      <td>212070</td>\n",
       "      <td>77.178715</td>\n",
       "      <td>75.0</td>\n",
       "    </tr>\n",
       "  </tbody>\n",
       "</table>\n",
       "<p>7584 rows × 8 columns</p>\n",
       "</div>"
      ],
      "text/plain": [
       "                    uid     iid                        username  \\\n",
       "0     76561198060870160  402570  Mr.Tonguesoff(Mr Krabs Unfair)   \n",
       "1     76561198118240131  377160                           Chris   \n",
       "2     76561198030665293  214490                     Scuzzlebutt   \n",
       "3     76561198135702357  551730                         Cenosys   \n",
       "4     76561198171411650     440                  The critpotato   \n",
       "...                 ...     ...                             ...   \n",
       "7579  76561197972483399  228260       Hamburger! N00BS welcome!   \n",
       "7580  76561198032943558  367520                      frosty0993   \n",
       "7581  76561198003340520    2820                       NoneSmith   \n",
       "7582  76561197998928520    8930                            bump   \n",
       "7583  76561197993956978  212070                         Doddger   \n",
       "\n",
       "                user_id                                 title  product_id  \\\n",
       "0     76561198060870160                         Atlas Reactor      402570   \n",
       "1     76561198118240131                             Fallout 4      377160   \n",
       "2     76561198030665293                      Alien: Isolation      214490   \n",
       "3     76561198135702357                            Toukiden 2      551730   \n",
       "4     76561198171411650                       Team Fortress 2         440   \n",
       "...                 ...                                   ...         ...   \n",
       "7579  76561197972483399  Fallen Enchantress: Legendary Heroes      228260   \n",
       "7580  76561198032943558                         Hollow Knight      367520   \n",
       "7581  76561198003340520                   X3: Terran Conflict        2820   \n",
       "7582  76561197998928520           Sid Meier's Civilization® V        8930   \n",
       "7583  76561197993956978                         Star Conflict      212070   \n",
       "\n",
       "            est  metascore  \n",
       "0     81.237792       81.0  \n",
       "1     83.980253       84.0  \n",
       "2     81.200299       81.0  \n",
       "3     78.866629       73.0  \n",
       "4     92.000000       92.0  \n",
       "...         ...        ...  \n",
       "7579  80.144038       80.0  \n",
       "7580  85.448481       86.0  \n",
       "7581  76.887630       73.0  \n",
       "7582  89.923293       90.0  \n",
       "7583  77.178715       75.0  \n",
       "\n",
       "[7584 rows x 8 columns]"
      ]
     },
     "execution_count": 75,
     "metadata": {},
     "output_type": "execute_result"
    }
   ],
   "source": [
    "pred_df = pd.DataFrame(best_pred).merge(data_reviews , left_on = ['uid', 'iid'], right_on = ['user_id', 'product_id'])\n",
    "pred_df[['uid', 'iid',  'username', 'user_id', 'title', 'product_id', 'est','metascore']]"
   ]
  },
  {
   "cell_type": "markdown",
   "metadata": {},
   "source": [
    "### Análisis de predicciones para datos desconocidos"
   ]
  },
  {
   "cell_type": "code",
   "execution_count": 76,
   "metadata": {},
   "outputs": [],
   "source": [
    "anti_pre = best_algo.test(anti_set)\n",
    "pred_df = pd.DataFrame(anti_pre).merge(games , left_on = ['iid'], right_on = ['product_id'])\n",
    "pred_df = pd.DataFrame(pred_df).merge(users , left_on = ['uid'], right_on = ['user_id'])"
   ]
  },
  {
   "cell_type": "code",
   "execution_count": 77,
   "metadata": {
    "scrolled": true
   },
   "outputs": [
    {
     "data": {
      "text/html": [
       "<div>\n",
       "<style scoped>\n",
       "    .dataframe tbody tr th:only-of-type {\n",
       "        vertical-align: middle;\n",
       "    }\n",
       "\n",
       "    .dataframe tbody tr th {\n",
       "        vertical-align: top;\n",
       "    }\n",
       "\n",
       "    .dataframe thead th {\n",
       "        text-align: right;\n",
       "    }\n",
       "</style>\n",
       "<table border=\"1\" class=\"dataframe\">\n",
       "  <thead>\n",
       "    <tr style=\"text-align: right;\">\n",
       "      <th></th>\n",
       "      <th>uid</th>\n",
       "      <th>iid</th>\n",
       "      <th>r_ui</th>\n",
       "      <th>est</th>\n",
       "      <th>details</th>\n",
       "      <th>product_id</th>\n",
       "      <th>title</th>\n",
       "      <th>user_id</th>\n",
       "      <th>username</th>\n",
       "    </tr>\n",
       "  </thead>\n",
       "  <tbody>\n",
       "    <tr>\n",
       "      <th>14408751</th>\n",
       "      <td>76561198353396844</td>\n",
       "      <td>271590</td>\n",
       "      <td>81.576704</td>\n",
       "      <td>95.707413</td>\n",
       "      <td>{'actual_k': 0, 'was_impossible': False}</td>\n",
       "      <td>271590</td>\n",
       "      <td>Grand Theft Auto V</td>\n",
       "      <td>76561198353396844</td>\n",
       "      <td>the_maker988</td>\n",
       "    </tr>\n",
       "    <tr>\n",
       "      <th>14408752</th>\n",
       "      <td>76561198353396844</td>\n",
       "      <td>452570</td>\n",
       "      <td>81.576704</td>\n",
       "      <td>81.546219</td>\n",
       "      <td>{'actual_k': 0, 'was_impossible': False}</td>\n",
       "      <td>452570</td>\n",
       "      <td>Battle Chef Brigade</td>\n",
       "      <td>76561198353396844</td>\n",
       "      <td>the_maker988</td>\n",
       "    </tr>\n",
       "    <tr>\n",
       "      <th>14408753</th>\n",
       "      <td>76561198353396844</td>\n",
       "      <td>8880</td>\n",
       "      <td>81.576704</td>\n",
       "      <td>82.997028</td>\n",
       "      <td>{'actual_k': 0, 'was_impossible': False}</td>\n",
       "      <td>8880</td>\n",
       "      <td>Freedom Force</td>\n",
       "      <td>76561198353396844</td>\n",
       "      <td>the_maker988</td>\n",
       "    </tr>\n",
       "    <tr>\n",
       "      <th>14408754</th>\n",
       "      <td>76561198353396844</td>\n",
       "      <td>61700</td>\n",
       "      <td>81.576704</td>\n",
       "      <td>80.451879</td>\n",
       "      <td>{'actual_k': 0, 'was_impossible': False}</td>\n",
       "      <td>61700</td>\n",
       "      <td>Might &amp;amp; Magic: Clash of Heroes</td>\n",
       "      <td>76561198353396844</td>\n",
       "      <td>the_maker988</td>\n",
       "    </tr>\n",
       "    <tr>\n",
       "      <th>14408755</th>\n",
       "      <td>76561198353396844</td>\n",
       "      <td>214560</td>\n",
       "      <td>81.576704</td>\n",
       "      <td>88.079112</td>\n",
       "      <td>{'actual_k': 0, 'was_impossible': False}</td>\n",
       "      <td>214560</td>\n",
       "      <td>Mark of the Ninja</td>\n",
       "      <td>76561198353396844</td>\n",
       "      <td>the_maker988</td>\n",
       "    </tr>\n",
       "  </tbody>\n",
       "</table>\n",
       "</div>"
      ],
      "text/plain": [
       "                        uid     iid       r_ui        est  \\\n",
       "14408751  76561198353396844  271590  81.576704  95.707413   \n",
       "14408752  76561198353396844  452570  81.576704  81.546219   \n",
       "14408753  76561198353396844    8880  81.576704  82.997028   \n",
       "14408754  76561198353396844   61700  81.576704  80.451879   \n",
       "14408755  76561198353396844  214560  81.576704  88.079112   \n",
       "\n",
       "                                           details  product_id  \\\n",
       "14408751  {'actual_k': 0, 'was_impossible': False}      271590   \n",
       "14408752  {'actual_k': 0, 'was_impossible': False}      452570   \n",
       "14408753  {'actual_k': 0, 'was_impossible': False}        8880   \n",
       "14408754  {'actual_k': 0, 'was_impossible': False}       61700   \n",
       "14408755  {'actual_k': 0, 'was_impossible': False}      214560   \n",
       "\n",
       "                                       title            user_id      username  \n",
       "14408751                  Grand Theft Auto V  76561198353396844  the_maker988  \n",
       "14408752                 Battle Chef Brigade  76561198353396844  the_maker988  \n",
       "14408753                       Freedom Force  76561198353396844  the_maker988  \n",
       "14408754  Might &amp; Magic: Clash of Heroes  76561198353396844  the_maker988  \n",
       "14408755                   Mark of the Ninja  76561198353396844  the_maker988  "
      ]
     },
     "execution_count": 77,
     "metadata": {},
     "output_type": "execute_result"
    }
   ],
   "source": [
    "pred_df[(pred_df['est']>70.0)&(pred_df['user_id']=='76561198353396844')].head()"
   ]
  },
  {
   "cell_type": "code",
   "execution_count": 78,
   "metadata": {},
   "outputs": [
    {
     "data": {
      "text/plain": [
       "76561198029584543    2582\n",
       "76561198075765938    2582\n",
       "76561198240638652    2582\n",
       "76561198097138610    2582\n",
       "76561198119627604    2582\n",
       "                     ... \n",
       "76561198010131631    1283\n",
       "76561198043627942    1283\n",
       "76561198011965365    1282\n",
       "76561198010800766    1280\n",
       "76561197969749884    1238\n",
       "Name: user_id, Length: 16763, dtype: int64"
      ]
     },
     "execution_count": 78,
     "metadata": {},
     "output_type": "execute_result"
    }
   ],
   "source": [
    "pred_df['user_id'].value_counts()"
   ]
  },
  {
   "cell_type": "code",
   "execution_count": 79,
   "metadata": {},
   "outputs": [
    {
     "data": {
      "text/plain": [
       "array([9041, 9040, 6459, 6457, 5167, 5166, 5165, 5164, 5163, 3876, 3875,\n",
       "       3874, 3873, 3872, 2584, 2583, 2582, 2581, 2580, 2579, 1292, 1291,\n",
       "       1290, 1289, 1288, 1287, 1286, 1285, 1284, 1283, 1282, 1280, 1238],\n",
       "      dtype=int64)"
      ]
     },
     "execution_count": 79,
     "metadata": {},
     "output_type": "execute_result"
    }
   ],
   "source": [
    "pred_df['username'].value_counts().unique()"
   ]
  },
  {
   "cell_type": "code",
   "execution_count": 80,
   "metadata": {
    "scrolled": true
   },
   "outputs": [
    {
     "data": {
      "text/html": [
       "<div>\n",
       "<style scoped>\n",
       "    .dataframe tbody tr th:only-of-type {\n",
       "        vertical-align: middle;\n",
       "    }\n",
       "\n",
       "    .dataframe tbody tr th {\n",
       "        vertical-align: top;\n",
       "    }\n",
       "\n",
       "    .dataframe thead th {\n",
       "        text-align: right;\n",
       "    }\n",
       "</style>\n",
       "<table border=\"1\" class=\"dataframe\">\n",
       "  <thead>\n",
       "    <tr style=\"text-align: right;\">\n",
       "      <th></th>\n",
       "      <th>uid</th>\n",
       "      <th>iid</th>\n",
       "      <th>r_ui</th>\n",
       "      <th>est</th>\n",
       "      <th>details</th>\n",
       "      <th>product_id</th>\n",
       "      <th>title</th>\n",
       "      <th>user_id</th>\n",
       "      <th>username</th>\n",
       "    </tr>\n",
       "  </thead>\n",
       "  <tbody>\n",
       "    <tr>\n",
       "      <th>169027</th>\n",
       "      <td>76561197990406921</td>\n",
       "      <td>271590</td>\n",
       "      <td>81.576704</td>\n",
       "      <td>95.242943</td>\n",
       "      <td>{'actual_k': 0, 'was_impossible': False}</td>\n",
       "      <td>271590</td>\n",
       "      <td>Grand Theft Auto V</td>\n",
       "      <td>76561197990406921</td>\n",
       "      <td>MMG Man</td>\n",
       "    </tr>\n",
       "    <tr>\n",
       "      <th>169028</th>\n",
       "      <td>76561197990406921</td>\n",
       "      <td>452570</td>\n",
       "      <td>81.576704</td>\n",
       "      <td>81.081749</td>\n",
       "      <td>{'actual_k': 0, 'was_impossible': False}</td>\n",
       "      <td>452570</td>\n",
       "      <td>Battle Chef Brigade</td>\n",
       "      <td>76561197990406921</td>\n",
       "      <td>MMG Man</td>\n",
       "    </tr>\n",
       "    <tr>\n",
       "      <th>169029</th>\n",
       "      <td>76561197990406921</td>\n",
       "      <td>8880</td>\n",
       "      <td>81.576704</td>\n",
       "      <td>82.532558</td>\n",
       "      <td>{'actual_k': 0, 'was_impossible': False}</td>\n",
       "      <td>8880</td>\n",
       "      <td>Freedom Force</td>\n",
       "      <td>76561197990406921</td>\n",
       "      <td>MMG Man</td>\n",
       "    </tr>\n",
       "    <tr>\n",
       "      <th>169030</th>\n",
       "      <td>76561197990406921</td>\n",
       "      <td>61700</td>\n",
       "      <td>81.576704</td>\n",
       "      <td>79.987409</td>\n",
       "      <td>{'actual_k': 0, 'was_impossible': False}</td>\n",
       "      <td>61700</td>\n",
       "      <td>Might &amp;amp; Magic: Clash of Heroes</td>\n",
       "      <td>76561197990406921</td>\n",
       "      <td>MMG Man</td>\n",
       "    </tr>\n",
       "    <tr>\n",
       "      <th>169031</th>\n",
       "      <td>76561197990406921</td>\n",
       "      <td>214560</td>\n",
       "      <td>81.576704</td>\n",
       "      <td>87.614643</td>\n",
       "      <td>{'actual_k': 0, 'was_impossible': False}</td>\n",
       "      <td>214560</td>\n",
       "      <td>Mark of the Ninja</td>\n",
       "      <td>76561197990406921</td>\n",
       "      <td>MMG Man</td>\n",
       "    </tr>\n",
       "  </tbody>\n",
       "</table>\n",
       "</div>"
      ],
      "text/plain": [
       "                      uid     iid       r_ui        est  \\\n",
       "169027  76561197990406921  271590  81.576704  95.242943   \n",
       "169028  76561197990406921  452570  81.576704  81.081749   \n",
       "169029  76561197990406921    8880  81.576704  82.532558   \n",
       "169030  76561197990406921   61700  81.576704  79.987409   \n",
       "169031  76561197990406921  214560  81.576704  87.614643   \n",
       "\n",
       "                                         details  product_id  \\\n",
       "169027  {'actual_k': 0, 'was_impossible': False}      271590   \n",
       "169028  {'actual_k': 0, 'was_impossible': False}      452570   \n",
       "169029  {'actual_k': 0, 'was_impossible': False}        8880   \n",
       "169030  {'actual_k': 0, 'was_impossible': False}       61700   \n",
       "169031  {'actual_k': 0, 'was_impossible': False}      214560   \n",
       "\n",
       "                                     title            user_id username  \n",
       "169027                  Grand Theft Auto V  76561197990406921  MMG Man  \n",
       "169028                 Battle Chef Brigade  76561197990406921  MMG Man  \n",
       "169029                       Freedom Force  76561197990406921  MMG Man  \n",
       "169030  Might &amp; Magic: Clash of Heroes  76561197990406921  MMG Man  \n",
       "169031                   Mark of the Ninja  76561197990406921  MMG Man  "
      ]
     },
     "execution_count": 80,
     "metadata": {},
     "output_type": "execute_result"
    }
   ],
   "source": [
    "pred_df[(pred_df['est']>70.0)&(pred_df['user_id']=='76561197990406921')].head()"
   ]
  },
  {
   "cell_type": "code",
   "execution_count": 81,
   "metadata": {},
   "outputs": [],
   "source": [
    "#pred_df.to_csv('pred_df 19 12 2020.csv', sep=',')"
   ]
  },
  {
   "cell_type": "markdown",
   "metadata": {},
   "source": [
    "### Encontrando los vecinos más cercanos de un juego"
   ]
  },
  {
   "cell_type": "code",
   "execution_count": 82,
   "metadata": {},
   "outputs": [
    {
     "name": "stderr",
     "output_type": "stream",
     "text": [
      "C:\\ProgramData\\Anaconda3\\lib\\site-packages\\pandas\\core\\ops\\array_ops.py:253: FutureWarning: elementwise comparison failed; returning scalar instead, but in the future will perform elementwise comparison\n",
      "  res_values = method(rvalues)\n"
     ]
    },
    {
     "data": {
      "text/html": [
       "<div>\n",
       "<style scoped>\n",
       "    .dataframe tbody tr th:only-of-type {\n",
       "        vertical-align: middle;\n",
       "    }\n",
       "\n",
       "    .dataframe tbody tr th {\n",
       "        vertical-align: top;\n",
       "    }\n",
       "\n",
       "    .dataframe thead th {\n",
       "        text-align: right;\n",
       "    }\n",
       "</style>\n",
       "<table border=\"1\" class=\"dataframe\">\n",
       "  <thead>\n",
       "    <tr style=\"text-align: right;\">\n",
       "      <th></th>\n",
       "      <th>publisher</th>\n",
       "      <th>genres</th>\n",
       "      <th>app_name</th>\n",
       "      <th>title</th>\n",
       "      <th>url</th>\n",
       "      <th>release_date</th>\n",
       "      <th>tags</th>\n",
       "      <th>discount_price</th>\n",
       "      <th>reviews_url</th>\n",
       "      <th>specs</th>\n",
       "      <th>price</th>\n",
       "      <th>early_access</th>\n",
       "      <th>product_id</th>\n",
       "      <th>developer</th>\n",
       "      <th>sentiment</th>\n",
       "      <th>metascore</th>\n",
       "    </tr>\n",
       "  </thead>\n",
       "  <tbody>\n",
       "  </tbody>\n",
       "</table>\n",
       "</div>"
      ],
      "text/plain": [
       "Empty DataFrame\n",
       "Columns: [publisher, genres, app_name, title, url, release_date, tags, discount_price, reviews_url, specs, price, early_access, product_id, developer, sentiment, metascore]\n",
       "Index: []"
      ]
     },
     "execution_count": 82,
     "metadata": {},
     "output_type": "execute_result"
    }
   ],
   "source": [
    "data_games[data_games.product_id=='440'].head(3)"
   ]
  },
  {
   "cell_type": "code",
   "execution_count": 83,
   "metadata": {},
   "outputs": [
    {
     "data": {
      "text/html": [
       "<div>\n",
       "<style scoped>\n",
       "    .dataframe tbody tr th:only-of-type {\n",
       "        vertical-align: middle;\n",
       "    }\n",
       "\n",
       "    .dataframe tbody tr th {\n",
       "        vertical-align: top;\n",
       "    }\n",
       "\n",
       "    .dataframe thead th {\n",
       "        text-align: right;\n",
       "    }\n",
       "</style>\n",
       "<table border=\"1\" class=\"dataframe\">\n",
       "  <thead>\n",
       "    <tr style=\"text-align: right;\">\n",
       "      <th></th>\n",
       "      <th>product_id</th>\n",
       "      <th>title</th>\n",
       "    </tr>\n",
       "  </thead>\n",
       "  <tbody>\n",
       "    <tr>\n",
       "      <th>10602</th>\n",
       "      <td>377160</td>\n",
       "      <td>Fallout 4</td>\n",
       "    </tr>\n",
       "    <tr>\n",
       "      <th>16702</th>\n",
       "      <td>333930</td>\n",
       "      <td>Dirty Bomb®</td>\n",
       "    </tr>\n",
       "    <tr>\n",
       "      <th>19657</th>\n",
       "      <td>107410</td>\n",
       "      <td>Arma 3</td>\n",
       "    </tr>\n",
       "    <tr>\n",
       "      <th>27208</th>\n",
       "      <td>22330</td>\n",
       "      <td>The Elder Scrolls IV: Oblivion® Game of the Ye...</td>\n",
       "    </tr>\n",
       "  </tbody>\n",
       "</table>\n",
       "</div>"
      ],
      "text/plain": [
       "       product_id                                              title\n",
       "10602      377160                                          Fallout 4\n",
       "16702      333930                                        Dirty Bomb®\n",
       "19657      107410                                             Arma 3\n",
       "27208       22330  The Elder Scrolls IV: Oblivion® Game of the Ye..."
      ]
     },
     "execution_count": 83,
     "metadata": {},
     "output_type": "execute_result"
    }
   ],
   "source": [
    "tsr_inner_id = best_algo.trainset.to_inner_iid(440)\n",
    "tsr_neighbors = best_algo.get_neighbors(tsr_inner_id, k=4)\n",
    "games[games.product_id.isin([algo.trainset.to_raw_iid(inner_id)\n",
    "                       for inner_id in tsr_neighbors])]"
   ]
  },
  {
   "cell_type": "code",
   "execution_count": 84,
   "metadata": {},
   "outputs": [
    {
     "data": {
      "text/html": [
       "<div>\n",
       "<style scoped>\n",
       "    .dataframe tbody tr th:only-of-type {\n",
       "        vertical-align: middle;\n",
       "    }\n",
       "\n",
       "    .dataframe tbody tr th {\n",
       "        vertical-align: top;\n",
       "    }\n",
       "\n",
       "    .dataframe thead th {\n",
       "        text-align: right;\n",
       "    }\n",
       "</style>\n",
       "<table border=\"1\" class=\"dataframe\">\n",
       "  <thead>\n",
       "    <tr style=\"text-align: right;\">\n",
       "      <th></th>\n",
       "      <th>username</th>\n",
       "      <th>hours</th>\n",
       "      <th>product_id</th>\n",
       "      <th>user_id</th>\n",
       "      <th>genres</th>\n",
       "      <th>title</th>\n",
       "      <th>price</th>\n",
       "      <th>metascore</th>\n",
       "    </tr>\n",
       "  </thead>\n",
       "  <tbody>\n",
       "    <tr>\n",
       "      <th>3</th>\n",
       "      <td>tung.tungnguyen trade.tf</td>\n",
       "      <td>114.8</td>\n",
       "      <td>271590</td>\n",
       "      <td>76561198211759421</td>\n",
       "      <td>[Action, Adventure]</td>\n",
       "      <td>Grand Theft Auto V</td>\n",
       "      <td>39.99</td>\n",
       "      <td>96.0</td>\n",
       "    </tr>\n",
       "    <tr>\n",
       "      <th>17</th>\n",
       "      <td>philmont</td>\n",
       "      <td>111.7</td>\n",
       "      <td>271590</td>\n",
       "      <td>76561197977483812</td>\n",
       "      <td>[Action, Adventure]</td>\n",
       "      <td>Grand Theft Auto V</td>\n",
       "      <td>39.99</td>\n",
       "      <td>96.0</td>\n",
       "    </tr>\n",
       "    <tr>\n",
       "      <th>32</th>\n",
       "      <td>Moebius Teras</td>\n",
       "      <td>35.5</td>\n",
       "      <td>271590</td>\n",
       "      <td>76561198020718137</td>\n",
       "      <td>[Action, Adventure]</td>\n",
       "      <td>Grand Theft Auto V</td>\n",
       "      <td>39.99</td>\n",
       "      <td>96.0</td>\n",
       "    </tr>\n",
       "  </tbody>\n",
       "</table>\n",
       "</div>"
      ],
      "text/plain": [
       "                    username  hours  product_id            user_id  \\\n",
       "3   tung.tungnguyen trade.tf  114.8      271590  76561198211759421   \n",
       "17                  philmont  111.7      271590  76561197977483812   \n",
       "32             Moebius Teras   35.5      271590  76561198020718137   \n",
       "\n",
       "                 genres               title  price  metascore  \n",
       "3   [Action, Adventure]  Grand Theft Auto V  39.99       96.0  \n",
       "17  [Action, Adventure]  Grand Theft Auto V  39.99       96.0  \n",
       "32  [Action, Adventure]  Grand Theft Auto V  39.99       96.0  "
      ]
     },
     "execution_count": 84,
     "metadata": {},
     "output_type": "execute_result"
    }
   ],
   "source": [
    "data_reviews.nlargest(3, 'metascore')"
   ]
  },
  {
   "cell_type": "markdown",
   "metadata": {},
   "source": [
    "### Comparando resultados de SVD con KNN, de forma gráfica"
   ]
  },
  {
   "cell_type": "code",
   "execution_count": 85,
   "metadata": {},
   "outputs": [
    {
     "data": {
      "text/plain": [
       "(array([0, 1, 2, 3, 4]), <a list of 5 Text xticklabel objects>)"
      ]
     },
     "execution_count": 85,
     "metadata": {},
     "output_type": "execute_result"
    },
    {
     "data": {
      "image/png": "[encoded data removed]",
      "text/plain": [
       "<Figure size 432x288 with 1 Axes>"
      ]
     },
     "metadata": {
      "needs_background": "light"
     },
     "output_type": "display_data"
    }
   ],
   "source": [
    "errores = {\n",
    "    'Modelos': ['SVD_1', 'SVD_3', 'KNN_1', 'KNN_2', 'KNN_3'],\n",
    "    \n",
    "    'RMSE': [rmse_svd_1, rmse_svd_3, rmse_knn_1, \n",
    "             rmse_knn_2, rmse_knn_3]}\n",
    "\n",
    "tabla_errores = pd.DataFrame(errores, columns = ['Modelos', 'RMSE'])\n",
    "\n",
    "sns.barplot(x = 'Modelos', y = 'RMSE', data = tabla_errores)\n",
    "plt.grid('y')\n",
    "plt.xticks(rotation = 45)"
   ]
  },
  {
   "cell_type": "markdown",
   "metadata": {},
   "source": [
    "### Concluimos que el modelo mas performante y que cumple con filtro colaborativo fue:\n",
    "\n",
    "\n",
    "KNN_3: KNNBaseline con k =3 y sim_options = {'name': 'cosine' ,'user_based':  False}\n",
    "\n",
    "\n",
    "### Sin embargo, el modelo más performante sin cumplir con ese criterio fue:\n",
    "\n",
    "SVD_3: SVD con parámetros n_factors=5, n_epochs=20, lr_all=0.005 y reg_all=0.002."
   ]
  },
  {
   "cell_type": "markdown",
   "metadata": {},
   "source": [
    "### Sin embargo, el problema de recomendaciones que no coinciden con los juegos jugados sigue existiendo. Se requiere un procedimiento independiente del metascore para esto. Se detallará al final de esta entrega, en la sección de propuestas."
   ]
  },
  {
   "cell_type": "markdown",
   "metadata": {},
   "source": [
    "# Pregunta propuesta:\n",
    "\n",
    "\n",
    "### ¿como ir más allá del metascore en los features del modelo? ¿como usar las horas jugadas y el tag/género? \n",
    "\n",
    "\n",
    "#### R: Filtrar primero el dataset por género/etiqueta, entrenando el modelo con esos datos y luego arrojando una predicción"
   ]
  },
  {
   "cell_type": "code",
   "execution_count": 86,
   "metadata": {},
   "outputs": [
    {
     "data": {
      "text/plain": [
       "['Action']"
      ]
     },
     "execution_count": 86,
     "metadata": {},
     "output_type": "execute_result"
    }
   ],
   "source": [
    "data_reviews.genres.value_counts().index[0]"
   ]
  },
  {
   "cell_type": "code",
   "execution_count": 87,
   "metadata": {},
   "outputs": [
    {
     "data": {
      "text/html": [
       "<div>\n",
       "<style scoped>\n",
       "    .dataframe tbody tr th:only-of-type {\n",
       "        vertical-align: middle;\n",
       "    }\n",
       "\n",
       "    .dataframe tbody tr th {\n",
       "        vertical-align: top;\n",
       "    }\n",
       "\n",
       "    .dataframe thead th {\n",
       "        text-align: right;\n",
       "    }\n",
       "</style>\n",
       "<table border=\"1\" class=\"dataframe\">\n",
       "  <thead>\n",
       "    <tr style=\"text-align: right;\">\n",
       "      <th></th>\n",
       "      <th>username</th>\n",
       "      <th>hours</th>\n",
       "      <th>product_id</th>\n",
       "      <th>user_id</th>\n",
       "      <th>genres</th>\n",
       "      <th>title</th>\n",
       "      <th>price</th>\n",
       "      <th>metascore</th>\n",
       "    </tr>\n",
       "  </thead>\n",
       "  <tbody>\n",
       "    <tr>\n",
       "      <th>131</th>\n",
       "      <td>Sigmato</td>\n",
       "      <td>20.9</td>\n",
       "      <td>350280</td>\n",
       "      <td>76561198050352619</td>\n",
       "      <td>['Action']</td>\n",
       "      <td>LawBreakers</td>\n",
       "      <td>29.99</td>\n",
       "      <td>76.0</td>\n",
       "    </tr>\n",
       "    <tr>\n",
       "      <th>172</th>\n",
       "      <td>Maverick</td>\n",
       "      <td>25.1</td>\n",
       "      <td>350280</td>\n",
       "      <td>76561198260344758</td>\n",
       "      <td>['Action']</td>\n",
       "      <td>LawBreakers</td>\n",
       "      <td>29.99</td>\n",
       "      <td>76.0</td>\n",
       "    </tr>\n",
       "    <tr>\n",
       "      <th>184</th>\n",
       "      <td>The Goatnapper</td>\n",
       "      <td>26.2</td>\n",
       "      <td>350280</td>\n",
       "      <td>76561198027738175</td>\n",
       "      <td>['Action']</td>\n",
       "      <td>LawBreakers</td>\n",
       "      <td>29.99</td>\n",
       "      <td>76.0</td>\n",
       "    </tr>\n",
       "    <tr>\n",
       "      <th>193</th>\n",
       "      <td>WizardlyOrca</td>\n",
       "      <td>21.1</td>\n",
       "      <td>350280</td>\n",
       "      <td>76561197995145045</td>\n",
       "      <td>['Action']</td>\n",
       "      <td>LawBreakers</td>\n",
       "      <td>29.99</td>\n",
       "      <td>76.0</td>\n",
       "    </tr>\n",
       "    <tr>\n",
       "      <th>198</th>\n",
       "      <td>KickazzJack</td>\n",
       "      <td>27.2</td>\n",
       "      <td>350280</td>\n",
       "      <td>76561197970844460</td>\n",
       "      <td>['Action']</td>\n",
       "      <td>LawBreakers</td>\n",
       "      <td>29.99</td>\n",
       "      <td>76.0</td>\n",
       "    </tr>\n",
       "  </tbody>\n",
       "</table>\n",
       "</div>"
      ],
      "text/plain": [
       "           username  hours  product_id            user_id      genres  \\\n",
       "131         Sigmato   20.9      350280  76561198050352619  ['Action']   \n",
       "172        Maverick   25.1      350280  76561198260344758  ['Action']   \n",
       "184  The Goatnapper   26.2      350280  76561198027738175  ['Action']   \n",
       "193    WizardlyOrca   21.1      350280  76561197995145045  ['Action']   \n",
       "198     KickazzJack   27.2      350280  76561197970844460  ['Action']   \n",
       "\n",
       "           title  price  metascore  \n",
       "131  LawBreakers  29.99       76.0  \n",
       "172  LawBreakers  29.99       76.0  \n",
       "184  LawBreakers  29.99       76.0  \n",
       "193  LawBreakers  29.99       76.0  \n",
       "198  LawBreakers  29.99       76.0  "
      ]
     },
     "execution_count": 87,
     "metadata": {},
     "output_type": "execute_result"
    }
   ],
   "source": [
    "data_reviews_action = data_reviews.copy()\n",
    "data_reviews_action.genres = data_reviews_action.genres.astype(str)\n",
    "data_reviews_action = data_reviews_action[data_reviews_action.genres==\"['Action']\"]\n",
    "data_reviews_action.head()"
   ]
  },
  {
   "cell_type": "code",
   "execution_count": 88,
   "metadata": {},
   "outputs": [
    {
     "name": "stdout",
     "output_type": "stream",
     "text": [
      "Estimating biases using als...\n",
      "Computing the cosine similarity matrix...\n",
      "Done computing similarity matrix.\n",
      "RMSE: 3.0605\n",
      "Estimating biases using als...\n",
      "Computing the cosine similarity matrix...\n",
      "Done computing similarity matrix.\n",
      "RMSE: 3.5924\n",
      "Estimating biases using als...\n",
      "Computing the cosine similarity matrix...\n",
      "Done computing similarity matrix.\n",
      "RMSE: 3.0294\n",
      "Estimating biases using als...\n",
      "Computing the cosine similarity matrix...\n",
      "Done computing similarity matrix.\n",
      "RMSE: 2.8455\n",
      "Estimating biases using als...\n",
      "Computing the cosine similarity matrix...\n",
      "Done computing similarity matrix.\n",
      "RMSE: 2.8911\n",
      "2.845529852751018\n"
     ]
    }
   ],
   "source": [
    "data_final = data_reviews_action[['user_id', 'product_id', 'metascore']]\n",
    "reader = Reader(rating_scale=(1, 100))\n",
    "data = Dataset.load_from_df(data_final, reader)\n",
    "anti_set = data.build_full_trainset().build_anti_testset()\n",
    "\n",
    "sim_options = {'name': 'cosine' ,'user_based':  False}\n",
    "kf = KFold(n_splits=5)\n",
    "algo = KNNBaseline(k =3 , sim_options = sim_options)\n",
    "best_algo = None\n",
    "best_rmse = 1000.0\n",
    "best_pred = None\n",
    "for trainset, testset in kf.split(data):\n",
    "    # train and test algorithm.\n",
    "    algo.fit(trainset)\n",
    "    predictions = algo.test(testset)\n",
    "    # Compute and print Root Mean Squared Error\n",
    "    rmse = accuracy.rmse(predictions, verbose=True)\n",
    "    if rmse < best_rmse:\n",
    "        best_rmse= rmse\n",
    "        best_algo = algo\n",
    "        best_pred = predictions\n",
    "        \n",
    "rmse_knn_4 = best_rmse   \n",
    "print(best_rmse)"
   ]
  },
  {
   "cell_type": "markdown",
   "metadata": {},
   "source": [
    "## Comentarios sobre la predicción final vs la expectativa"
   ]
  },
  {
   "cell_type": "markdown",
   "metadata": {},
   "source": [
    "Hay limitaciones de Memoria RAM para el procesamiento del dataset. Con 16 GB RAM no fue posible para mi procesar el 100% del dataset de reviews, solo logré procesar el 70%.\n",
    "\n",
    "Predecir recomendaciones mediante rating sirve para casos muy particulares y no es funcional todo el tiempo. Por ejemplo, si abro por primera vez una web de Ecommerce espero ver los productos mejor calificados, pero luego de filtrar de forma manual o buscar de forma repetitiva en la misma web, espero ver que las recomendaciones cada vez más se ajusten a mis parámetros de búsqueda.\n",
    "\n",
    "Por lo cual, si bien tenía una expectativa de generar recomendaciones con datasets de comportamiento de búsqueda, en realidad solo podemos hacer recomendaciones basadas en los productos de mejor rating.\n",
    "\n",
    "Finalmente, creo que quizá sea necesario balancear el hecho que algunos usuarios aportan más datos que otros (califican más juegos, generan mas horas y metascore) mediante la sustracción del metascore medio del usuario de todas las calificaciones del mismo"
   ]
  },
  {
   "cell_type": "markdown",
   "metadata": {},
   "source": [
    "## Propuestas a probar en la próxima entrega sobre este dataset, agregar un nuevo dataset externo para complementar el modelo"
   ]
  },
  {
   "cell_type": "markdown",
   "metadata": {},
   "source": [
    "Dataset externo: web actual de Steam https://store.steampowered.com/ obtener nuevas reseñas para testear la predicción, inclusive usando mi cuenta personal de Steam para entender si las recomendaciones se alinean. Usar web scrapping con Selenium y Beautifullsoup.\n",
    "\n",
    "Usar el texto de dejó el usuario al calificar, para mejorar el sistema de recomendación, usado librerías de procesamiento de lenguaje natural.\n",
    "\n",
    "Evitar el metascore y generar una métrica numérica de rating de cada review a partir del texto de la calificación. Depender del metascore es depender de una variable calculada por la plataforma y no generada por el usuario (no depende del dataset de revies ya que es un feature del juego).\n",
    "\n",
    "Considerar de igual manera en la ponderación la variable \"found funny\" ya que ella define si la calificación fue negativa o positiva\n",
    "\n",
    "Resultados esperados: Un script de python que genere recomendaciones basado en data más flexible en su origen (scrapping) y más relacionado a la review de cada usuario (texto de la review de cada uno). Esto no implica mejorar el performance del modelo como objetivo, pero si mejorar la adaptabilidad del mismo."
   ]
  }
 ],
 "metadata": {
  "colab": {
   "collapsed_sections": [],
   "name": "DS_Proyecto_03_SR.ipynb",
   "provenance": []
  },
  "kernelspec": {
   "display_name": "Python 3",
   "language": "python",
   "name": "python3"
  },
  "language_info": {
   "codemirror_mode": {
    "name": "ipython",
    "version": 3
   },
   "file_extension": ".py",
   "mimetype": "text/x-python",
   "name": "python",
   "nbconvert_exporter": "python",
   "pygments_lexer": "ipython3",
   "version": "3.7.6"
  }
 },
 "nbformat": 4,
 "nbformat_minor": 1
}
